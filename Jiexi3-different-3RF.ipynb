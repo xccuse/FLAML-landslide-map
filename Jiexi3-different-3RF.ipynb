{
 "cells": [
  {
   "cell_type": "code",
   "execution_count": null,
   "id": "20ac413e-304e-4a4b-93f3-432b18479750",
   "metadata": {},
   "outputs": [],
   "source": [
    "import pandas as pd\n",
    "import csv\n",
    "import numpy as np\n",
    "from sklearn.model_selection import train_test_split"
   ]
  },
  {
   "cell_type": "code",
   "execution_count": null,
   "id": "75a1f104-c1d0-4d74-a859-6e8b656953a7",
   "metadata": {},
   "outputs": [],
   "source": [
    "zon = pd.read_csv(r'D:/LSM/1JieXi2/fz.csv')\n",
    "zon = zon.drop(zon.columns[0], axis=1)"
   ]
  },
  {
   "cell_type": "code",
   "execution_count": null,
   "id": "4c283a76-cac8-4b11-9fbb-f436db6c133a",
   "metadata": {},
   "outputs": [],
   "source": [
    "\n",
    "column_mapping = {\n",
    "    'DEM': 'Elevation',\n",
    "    'Slope': 'Slope',\n",
    "    'Aspect': 'Aspect',\n",
    "    'JXtwi': 'TWI',\n",
    "    'RDLS': 'Topographic relief',\n",
    "    'ys': 'Strata',\n",
    "    'TPI': 'Slope position',\n",
    "    'curvature': 'Slope curvature',\n",
    "    'landcover': 'Land cover',\n",
    "    'NDVI2': 'NDVI',\n",
    "    'Driver': 'Distance to river',\n",
    "    'rainfallzh': 'Accumulated rainfall'\n",
    "}\n",
    "\n",
    "\n",
    "zon.rename(columns=column_mapping, inplace=True)"
   ]
  },
  {
   "cell_type": "code",
   "execution_count": null,
   "id": "278b5dfe-fbad-4995-9d77-8c747b37eaf4",
   "metadata": {},
   "outputs": [],
   "source": [
    "train,test=train_test_split(zon,test_size=0.3,random_state=5)"
   ]
  },
  {
   "cell_type": "code",
   "execution_count": null,
   "id": "bc387238-dbe8-461b-a4a8-1f8a8b91d99e",
   "metadata": {},
   "outputs": [],
   "source": [
    "y_train = train['Class'];\n",
    "X_train = train.drop(labels=['Class'], axis=1, level=None)\n",
    "\n",
    "y_test = test['Class'];\n",
    "X_test = test.drop(labels=['Class'], axis=1, level=None)"
   ]
  },
  {
   "cell_type": "code",
   "execution_count": null,
   "id": "01025492-a878-4f5e-8b17-9e52374b1a02",
   "metadata": {},
   "outputs": [],
   "source": [
    "# -*- coding: utf-8 -*-\n",
    "\n",
    "import pandas as pd\n",
    "import numpy as np\n",
    "import csv\n",
    "import codecs\n",
    "from sklearn import preprocessing\n",
    "from sklearn.model_selection import train_test_split\n",
    "from sklearn.metrics import confusion_matrix\n",
    "from sklearn.ensemble import RandomForestClassifier\n",
    "import matplotlib.pyplot as plt\n",
    "from sklearn.metrics import roc_curve\n",
    "import warnings\n",
    "warnings.filterwarnings(\"ignore\")"
   ]
  },
  {
   "cell_type": "code",
   "execution_count": null,
   "id": "28410188-70f2-4332-81dc-1b4056ed5b39",
   "metadata": {},
   "outputs": [],
   "source": [
    "classifier=RandomForestClassifier(n_estimators=4, max_features=0.2886751345948129, max_leaf_nodes=4, criterion='entropy')\n",
    "\n",
    "predictor = classifier.fit(X_train, y_train)"
   ]
  },
  {
   "cell_type": "code",
   "execution_count": null,
   "id": "559135d2-010b-4c47-85a0-7be1cd2a6f11",
   "metadata": {},
   "outputs": [],
   "source": [
    "y_predTr=classifier.predict(X_train)\n",
    "#print(y_predTr)\n",
    "y_predict_train = classifier.predict_proba(X_train)\n",
    "# print(y_predict)\n",
    "\n",
    "y_pred=classifier.predict(X_test)\n",
    "#print(y_pred)\n",
    "\n",
    "y_predict_proba = classifier.predict_proba(X_test)"
   ]
  },
  {
   "cell_type": "code",
   "execution_count": null,
   "id": "955ef980-5c57-437c-b99a-b8b7fa6ae55b",
   "metadata": {},
   "outputs": [],
   "source": [
    "def plot_roc_cur(fper, tper):\n",
    "    plt.plot(fper, tper, color='orange', label='ROC')\n",
    "    plt.plot([0, 1], [0, 1], color='darkblue', linestyle='--')\n",
    "    plt.xlabel('False Positive Rate')\n",
    "    plt.ylabel('True Positive Rate')\n",
    "    plt.title('Receiver Operating Characteristic (ROC) Curve')\n",
    "    plt.legend()\n",
    "    plt.show()\n",
    "\n",
    "probs = classifier.predict_proba(X_test)\n",
    "probs = probs[:, 1]\n",
    "fper, tper, thresholds = roc_curve(y_test, probs)\n",
    "plot_roc_cur(fper, tper)\n",
    "\n",
    "from sklearn import  metrics\n",
    "auc= metrics.roc_auc_score(y_test, probs)\n",
    "print(\"area under cureve: {:.4f}\". format(metrics.roc_auc_score(y_test, probs)))\n",
    "\n",
    "print(\"Accuracy on Traning data: {:.4f}\".format(classifier.score(X_train,y_train)))\n",
    "print(\"Accuracy on test data: {:.4f}\".format(classifier.score(X_test, y_test)))"
   ]
  },
  {
   "cell_type": "code",
   "execution_count": null,
   "id": "09e7d70c-2047-4132-8e14-75e5ba778593",
   "metadata": {},
   "outputs": [],
   "source": []
  },
  {
   "cell_type": "code",
   "execution_count": null,
   "id": "e22efae6-4b1b-4798-b7df-3d367f807db6",
   "metadata": {},
   "outputs": [],
   "source": [
    "import pandas as pd\n",
    "import csv\n",
    "import numpy as np\n",
    "from sklearn.model_selection import train_test_split"
   ]
  },
  {
   "cell_type": "code",
   "execution_count": null,
   "id": "0f2917e3-75ab-4cd9-89b8-5a596dae62ef",
   "metadata": {},
   "outputs": [],
   "source": [
    "zon = pd.read_csv(r'D:/LSM/1JieXi2/fz.csv')\n",
    "zon = zon.drop(zon.columns[0], axis=1)"
   ]
  },
  {
   "cell_type": "code",
   "execution_count": null,
   "id": "6b6c153f-c29c-48f6-9eb4-65546ded4809",
   "metadata": {},
   "outputs": [],
   "source": [
    "column_mapping = {\n",
    "    'DEM': 'Elevation',\n",
    "    'Slope': 'Slope',\n",
    "    'Aspect': 'Aspect',\n",
    "    'JXtwi': 'TWI',\n",
    "    'RDLS': 'Topographic relief',\n",
    "    'ys': 'Strata',\n",
    "    'TPI': 'Slope position',\n",
    "    'curvature': 'Slope curvature',\n",
    "    'landcover': 'Land cover',\n",
    "    'NDVI2': 'NDVI',\n",
    "    'Driver': 'Distance to river',\n",
    "    'rainfallzh': 'Accumulated rainfall'\n",
    "}\n",
    "\n",
    "zon.rename(columns=column_mapping, inplace=True)"
   ]
  },
  {
   "cell_type": "code",
   "execution_count": null,
   "id": "35a285e9-9322-4015-9afc-7c88bd4b82a2",
   "metadata": {},
   "outputs": [],
   "source": [
    "train,test=train_test_split(zon,test_size=0.3,random_state=5)"
   ]
  },
  {
   "cell_type": "code",
   "execution_count": null,
   "id": "b2b5cf97-bb37-4860-9cd0-421506b90d38",
   "metadata": {},
   "outputs": [],
   "source": [
    "y_train = train['Class'];\n",
    "X_train = train.drop(labels=['Class'], axis=1, level=None)\n",
    "\n",
    "y_test = test['Class'];\n",
    "X_test = test.drop(labels=['Class'], axis=1, level=None)"
   ]
  },
  {
   "cell_type": "code",
   "execution_count": null,
   "id": "e7ba86a0-0df4-48d3-ae46-192dcfc8d9cc",
   "metadata": {},
   "outputs": [],
   "source": [
    "# -*- coding: utf-8 -*-\n",
    "\n",
    "import pandas as pd\n",
    "import numpy as np\n",
    "import csv\n",
    "import codecs\n",
    "from sklearn import preprocessing\n",
    "from sklearn.model_selection import train_test_split\n",
    "from sklearn.metrics import confusion_matrix\n",
    "from sklearn.ensemble import RandomForestClassifier\n",
    "import matplotlib.pyplot as plt\n",
    "from sklearn.metrics import roc_curve\n",
    "import warnings\n",
    "warnings.filterwarnings(\"ignore\")"
   ]
  },
  {
   "cell_type": "code",
   "execution_count": null,
   "id": "3abd1bc6-1bba-473a-9c6b-db19f004efe2",
   "metadata": {},
   "outputs": [],
   "source": [
    "classifier=RandomForestClassifier(n_estimators=30, max_features= 0.29325536401326485, max_leaf_nodes=93, criterion='entropy')\n",
    "\n",
    "predictor = classifier.fit(X_train, y_train)"
   ]
  },
  {
   "cell_type": "code",
   "execution_count": null,
   "id": "ff41c6b1-efa8-4e85-85ce-2a4ed778a937",
   "metadata": {},
   "outputs": [],
   "source": [
    "y_predTr=classifier.predict(X_train)\n",
    "#print(y_predTr)\n",
    "y_predict_train = classifier.predict_proba(X_train)\n",
    "# print(y_predict)\n",
    "\n",
    "y_pred=classifier.predict(X_test)\n",
    "#print(y_pred)\n",
    "\n",
    "y_predict_proba = classifier.predict_proba(X_test)"
   ]
  },
  {
   "cell_type": "code",
   "execution_count": null,
   "id": "56abf3aa-203a-4103-9f8b-4480dfda03b7",
   "metadata": {},
   "outputs": [],
   "source": [
    "def plot_roc_cur(fper, tper):\n",
    "    plt.plot(fper, tper, color='orange', label='ROC')\n",
    "    plt.plot([0, 1], [0, 1], color='darkblue', linestyle='--')\n",
    "    plt.xlabel('False Positive Rate')\n",
    "    plt.ylabel('True Positive Rate')\n",
    "    plt.title('Receiver Operating Characteristic (ROC) Curve')\n",
    "    plt.legend()\n",
    "    plt.show()\n",
    "\n",
    "probs = classifier.predict_proba(X_test)\n",
    "probs = probs[:, 1]\n",
    "fper, tper, thresholds = roc_curve(y_test, probs)\n",
    "plot_roc_cur(fper, tper)\n",
    "\n",
    "from sklearn import  metrics\n",
    "auc= metrics.roc_auc_score(y_test, probs)\n",
    "print(\"area under cureve: {:.4f}\". format(metrics.roc_auc_score(y_test, probs)))\n",
    "\n",
    "print(\"Accuracy on Traning data: {:.4f}\".format(classifier.score(X_train,y_train)))\n",
    "print(\"Accuracy on test data: {:.4f}\".format(classifier.score(X_test, y_test)))"
   ]
  },
  {
   "cell_type": "code",
   "execution_count": null,
   "id": "3c8509ee-d970-4ec3-a22b-4a7609b9fbc7",
   "metadata": {},
   "outputs": [],
   "source": []
  },
  {
   "cell_type": "code",
   "execution_count": null,
   "id": "1c6d3d30-35e1-46cd-ae34-5da4d9a2cbfd",
   "metadata": {},
   "outputs": [],
   "source": [
    "import pandas as pd\n",
    "import csv\n",
    "import numpy as np\n",
    "from sklearn.model_selection import train_test_split"
   ]
  },
  {
   "cell_type": "code",
   "execution_count": null,
   "id": "e93432c6-6472-467a-a6c9-45a26ed89a42",
   "metadata": {},
   "outputs": [],
   "source": [
    "zon = pd.read_csv(r'D:/LSM/1JieXi2/fz.csv')\n",
    "zon = zon.drop(zon.columns[0], axis=1)"
   ]
  },
  {
   "cell_type": "code",
   "execution_count": null,
   "id": "31eed0ca-5cb8-4ac1-aeef-345b5d0f4346",
   "metadata": {},
   "outputs": [],
   "source": [
    "column_mapping = {\n",
    "    'DEM': 'Elevation',\n",
    "    'Slope': 'Slope',\n",
    "    'Aspect': 'Aspect',\n",
    "    'JXtwi': 'TWI',\n",
    "    'RDLS': 'Topographic relief',\n",
    "    'ys': 'Strata',\n",
    "    'TPI': 'Slope position',\n",
    "    'curvature': 'Slope curvature',\n",
    "    'landcover': 'Land cover',\n",
    "    'NDVI2': 'NDVI',\n",
    "    'Driver': 'Distance to river',\n",
    "    'rainfallzh': 'Accumulated rainfall'\n",
    "}\n",
    "\n",
    "zon.rename(columns=column_mapping, inplace=True)"
   ]
  },
  {
   "cell_type": "code",
   "execution_count": null,
   "id": "ae4acdcf-d3f9-49fa-8c7d-e033dc69d3cd",
   "metadata": {},
   "outputs": [],
   "source": [
    "train,test=train_test_split(zon,test_size=0.3,random_state=5)"
   ]
  },
  {
   "cell_type": "code",
   "execution_count": null,
   "id": "67ce89e3-ee45-4b55-a578-2ed3411a2917",
   "metadata": {},
   "outputs": [],
   "source": [
    "y_train = train['Class'];\n",
    "X_train = train.drop(labels=['Class'], axis=1, level=None)\n",
    "\n",
    "y_test = test['Class'];\n",
    "X_test = test.drop(labels=['Class'], axis=1, level=None)"
   ]
  },
  {
   "cell_type": "code",
   "execution_count": null,
   "id": "5fe88dcf-3f40-48ec-afa5-cbf8f19dae34",
   "metadata": {},
   "outputs": [],
   "source": [
    "# -*- coding: utf-8 -*-\n",
    "\n",
    "import pandas as pd\n",
    "import numpy as np\n",
    "import csv\n",
    "import codecs\n",
    "from sklearn import preprocessing\n",
    "from sklearn.model_selection import train_test_split\n",
    "from sklearn.metrics import confusion_matrix\n",
    "from sklearn.ensemble import RandomForestClassifier\n",
    "import matplotlib.pyplot as plt\n",
    "from sklearn.metrics import roc_curve\n",
    "import warnings\n",
    "warnings.filterwarnings(\"ignore\")"
   ]
  },
  {
   "cell_type": "code",
   "execution_count": null,
   "id": "ace870c2-f32d-4cda-8a33-2d2183d3518f",
   "metadata": {},
   "outputs": [],
   "source": [
    "classifier=RandomForestClassifier(n_estimators=196, max_features= 0.4276961385813749, max_leaf_nodes=295, criterion='entropy')\n",
    "\n",
    "predictor = classifier.fit(X_train, y_train)"
   ]
  },
  {
   "cell_type": "code",
   "execution_count": null,
   "id": "29786f2d-e53b-42ec-b067-0b9255100da3",
   "metadata": {},
   "outputs": [],
   "source": [
    "y_predTr=classifier.predict(X_train)\n",
    "#print(y_predTr)\n",
    "y_predict_train = classifier.predict_proba(X_train)\n",
    "# print(y_predict)\n",
    "\n",
    "y_pred=classifier.predict(X_test)\n",
    "#print(y_pred)\n",
    "\n",
    "y_predict_proba = classifier.predict_proba(X_test)"
   ]
  },
  {
   "cell_type": "code",
   "execution_count": null,
   "id": "a2ae50cd-b904-413b-8fde-6f41dc5661ed",
   "metadata": {},
   "outputs": [],
   "source": [
    "def plot_roc_cur(fper, tper):\n",
    "    plt.plot(fper, tper, color='orange', label='ROC')\n",
    "    plt.plot([0, 1], [0, 1], color='darkblue', linestyle='--')\n",
    "    plt.xlabel('False Positive Rate')\n",
    "    plt.ylabel('True Positive Rate')\n",
    "    plt.title('Receiver Operating Characteristic (ROC) Curve')\n",
    "    plt.legend()\n",
    "    plt.show()\n",
    "\n",
    "probs = classifier.predict_proba(X_test)\n",
    "probs = probs[:, 1]\n",
    "fper, tper, thresholds = roc_curve(y_test, probs)\n",
    "plot_roc_cur(fper, tper)\n",
    "\n",
    "from sklearn import  metrics\n",
    "auc= metrics.roc_auc_score(y_test, probs)\n",
    "print(\"area under cureve: {:.4f}\". format(metrics.roc_auc_score(y_test, probs)))\n",
    "\n",
    "print(\"Accuracy on Traning data: {:.4f}\".format(classifier.score(X_train,y_train)))\n",
    "print(\"Accuracy on test data: {:.4f}\".format(classifier.score(X_test, y_test)))"
   ]
  },
  {
   "cell_type": "code",
   "execution_count": null,
   "id": "771c335b-6755-4f88-894f-e3f9ee5c8595",
   "metadata": {},
   "outputs": [],
   "source": []
  },
  {
   "cell_type": "code",
   "execution_count": null,
   "id": "0d776e98-4a28-41e0-a601-ff864e883fba",
   "metadata": {},
   "outputs": [],
   "source": []
  },
  {
   "cell_type": "code",
   "execution_count": null,
   "id": "61612ec3-cc12-4a5e-82e1-490dc50bde74",
   "metadata": {},
   "outputs": [],
   "source": []
  },
  {
   "cell_type": "code",
   "execution_count": null,
   "id": "1e65501d-3147-446b-845b-802d2e12f7fc",
   "metadata": {},
   "outputs": [],
   "source": []
  },
  {
   "cell_type": "code",
   "execution_count": null,
   "id": "5a7dd321-a7a2-442a-9aac-cb0df471d4b5",
   "metadata": {},
   "outputs": [],
   "source": []
  },
  {
   "cell_type": "code",
   "execution_count": null,
   "id": "ba3f0e0b-cdf4-49ba-94bf-49f9c8cea7e2",
   "metadata": {},
   "outputs": [],
   "source": []
  },
  {
   "cell_type": "code",
   "execution_count": null,
   "id": "ec089872-49ee-4c1b-a8e3-295aefe4020e",
   "metadata": {},
   "outputs": [],
   "source": []
  },
  {
   "cell_type": "code",
   "execution_count": null,
   "id": "a6ae709d-578d-4cbf-8f85-5b6aeeb01512",
   "metadata": {},
   "outputs": [],
   "source": []
  },
  {
   "cell_type": "code",
   "execution_count": null,
   "id": "bc8eb267-9ba4-4b04-911d-a9bb5e330c5f",
   "metadata": {},
   "outputs": [],
   "source": []
  },
  {
   "cell_type": "code",
   "execution_count": null,
   "id": "b48389c5-8605-40ba-8a57-4146f8e66f62",
   "metadata": {},
   "outputs": [],
   "source": []
  },
  {
   "cell_type": "code",
   "execution_count": null,
   "id": "81d94871-cb98-45e0-b6a2-d18bf90bd10a",
   "metadata": {},
   "outputs": [],
   "source": []
  },
  {
   "cell_type": "code",
   "execution_count": null,
   "id": "6a799175-4640-465e-af83-7df9e4cf7f9c",
   "metadata": {},
   "outputs": [],
   "source": []
  }
 ],
 "metadata": {
  "kernelspec": {
   "display_name": "Python 3 (ipykernel)",
   "language": "python",
   "name": "python3"
  },
  "language_info": {
   "codemirror_mode": {
    "name": "ipython",
    "version": 3
   },
   "file_extension": ".py",
   "mimetype": "text/x-python",
   "name": "python",
   "nbconvert_exporter": "python",
   "pygments_lexer": "ipython3",
   "version": "3.11.7"
  }
 },
 "nbformat": 4,
 "nbformat_minor": 5
}
