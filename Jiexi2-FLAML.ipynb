{
 "cells": [
  {
   "cell_type": "code",
   "execution_count": null,
   "id": "36dc0331-4f71-4256-8355-4471795903c4",
   "metadata": {},
   "outputs": [],
   "source": [
    "import pandas as pd\n",
    "import csv\n",
    "import numpy as np\n",
    "from sklearn.model_selection import train_test_split"
   ]
  },
  {
   "cell_type": "code",
   "execution_count": null,
   "id": "30475f94-18fe-41d1-a57e-996ef2e3c7ae",
   "metadata": {},
   "outputs": [],
   "source": [
    "zon = pd.read_csv(r'D:/LSM/1JieXi2/fz.csv')\n",
    "zon = zon.drop(zon.columns[0], axis=1)\n",
    "zon"
   ]
  },
  {
   "cell_type": "code",
   "execution_count": null,
   "id": "22f914bd-593d-42d2-8458-f3ba2cdcb1e2",
   "metadata": {},
   "outputs": [],
   "source": [
    "\n",
    "column_mapping = {\n",
    "    'DEM': 'Elevation',\n",
    "    'Slope': 'Slope',\n",
    "    'Aspect': 'Aspect',\n",
    "    'JXtwi': 'TWI',\n",
    "    'RDLS': 'Topographic relief',\n",
    "    'ys': 'Strata',\n",
    "    'TPI': 'Slope position',\n",
    "    'curvature': 'Slope curvature',\n",
    "    'landcover': 'Land cover',\n",
    "    'NDVI2': 'NDVI',\n",
    "    'Driver': 'Distance to river',\n",
    "    'rainfallzh': 'Accumulated rainfall'\n",
    "}\n",
    "\n",
    "zon.rename(columns=column_mapping, inplace=True)\n"
   ]
  },
  {
   "cell_type": "code",
   "execution_count": null,
   "id": "6171a8dc-42ea-4d86-a2f6-4b390f62821d",
   "metadata": {},
   "outputs": [],
   "source": [
    "train,test=train_test_split(zon,test_size=0.3,random_state=5)"
   ]
  },
  {
   "cell_type": "code",
   "execution_count": null,
   "id": "e97212f1-8284-4312-b2d4-2b2d9683c977",
   "metadata": {},
   "outputs": [],
   "source": [
    "y_train = train['Class'];\n",
    "X_train = train.drop(labels=['Class'], axis=1, level=None)\n",
    "\n",
    "y_test = test['Class'];\n",
    "X_test = test.drop(labels=['Class'], axis=1, level=None)"
   ]
  },
  {
   "cell_type": "code",
   "execution_count": null,
   "id": "df0553b6-ceaa-4413-8de4-d181229a01e9",
   "metadata": {},
   "outputs": [],
   "source": []
  },
  {
   "cell_type": "code",
   "execution_count": null,
   "id": "8539f606-b8c2-42ff-8a12-1683b764596e",
   "metadata": {},
   "outputs": [],
   "source": [
    "from flaml import AutoML\n",
    "automl = AutoML()\n",
    "\n",
    "settings = {\n",
    "    \"time_budget\": 300,  \n",
    "    \"metric\":  'roc_auc', \n",
    "    \"task\": 'classification',  \n",
    "    \"estimator_list\": ['rf'],\n",
    "    \"log_file_name\": 'class.log',  \n",
    "}\n",
    "# Train with labeled input data\n",
    "automl.fit(X_train=X_train, y_train=y_train,**settings)\n",
    "print(automl.predict_proba(X_train).shape)\n",
    "# Export the best model\n",
    "print(automl.model)"
   ]
  },
  {
   "cell_type": "code",
   "execution_count": null,
   "id": "0f342cd7-153b-420d-b421-27ec9ca981b4",
   "metadata": {},
   "outputs": [],
   "source": [
    "automl.config_history"
   ]
  },
  {
   "cell_type": "code",
   "execution_count": null,
   "id": "cb7c506e-e646-4009-a2ac-731d5d533306",
   "metadata": {},
   "outputs": [],
   "source": [
    "print('Best ML leaner:', automl.best_estimator)\n",
    "print('Best hyperparmeter config:', automl.best_config)\n",
    "print('Best accuracy on validation data: {0:.4g}'.format(1-automl.best_loss))\n",
    "print('Training duration of best run: {0:.4g} s'.format(automl.best_config_train_time))"
   ]
  },
  {
   "cell_type": "code",
   "execution_count": null,
   "id": "bf890096-6401-4194-a812-eb4763b17e50",
   "metadata": {},
   "outputs": [],
   "source": [
    "print(automl.model.estimator)"
   ]
  },
  {
   "cell_type": "code",
   "execution_count": null,
   "id": "a605a221-2f31-45ca-938b-a6ac277aa5c1",
   "metadata": {},
   "outputs": [],
   "source": [
    "\n",
    "y_pred1 = automl.predict(X_test)\n",
    "print('Predicted labels', y_pred1)\n",
    "print('True labels', y_test)\n",
    "y_pred_proba1 = automl.predict_proba(X_test)[:,1]"
   ]
  },
  {
   "cell_type": "code",
   "execution_count": null,
   "id": "884e52fb-37be-43e1-b814-f9e87e18784a",
   "metadata": {},
   "outputs": [],
   "source": [
    "gl1 =automl.predict_proba(X_test)\n",
    "gl1 = pd.DataFrame(gl1)\n",
    "gl1"
   ]
  },
  {
   "cell_type": "code",
   "execution_count": null,
   "id": "ba3bf4e2-daec-4446-94d6-2110bc91b8d0",
   "metadata": {},
   "outputs": [],
   "source": [
    "from flaml.ml import sklearn_metric_loss_score\n",
    "print('accuracy', '=', 1 - sklearn_metric_loss_score('accuracy', y_pred1, y_test))\n",
    "print('roc_auc', '=', 1 - sklearn_metric_loss_score('roc_auc', y_pred_proba1, y_test))\n",
    "print('log_loss', '=', sklearn_metric_loss_score('log_loss', y_pred_proba1, y_test))"
   ]
  },
  {
   "cell_type": "code",
   "execution_count": null,
   "id": "7f54d607-a8ba-4c70-86e9-2565f205122f",
   "metadata": {},
   "outputs": [],
   "source": [
    "from sklearn.metrics import classification_report,recall_score,accuracy_score,f1_score\n",
    "print(classification_report(y_test,y_pred1))"
   ]
  },
  {
   "cell_type": "code",
   "execution_count": null,
   "id": "ce522329-6534-494c-b5bc-a210d864d707",
   "metadata": {},
   "outputs": [],
   "source": [
    "from sklearn import  metrics\n",
    "import matplotlib.pyplot as plt\n",
    "from sklearn.metrics import roc_curve\n",
    "\n",
    "plt.rcParams['font.sans-serif'] = ['Times New Roman']\n",
    "plt.rcParams['axes.unicode_minus'] = False \n",
    "\n",
    "fpr,tpr,th=roc_curve(y_test,y_pred_proba1)\n",
    "plt.figure(figsize = (5,5) ,dpi = 300)\n",
    "plt.plot(fpr,tpr, color='peru', label='RF_Best_AUC={:.4f}'.format(metrics.roc_auc_score(y_test,y_pred_proba1))) # roc curve\n",
    "plt.legend()\n",
    "\n",
    "plt.plot([0, 1], [0, 1], color='darkblue', linestyle='--')\n",
    "plt.xlabel('False Positive Rate')\n",
    "plt.ylabel('True Positive Rate')\n",
    "plt.title('Receiver Operating Characteristic (ROC) Curve')"
   ]
  },
  {
   "cell_type": "code",
   "execution_count": null,
   "id": "284631d2-4adf-4f15-8ab5-55c94f63fd7b",
   "metadata": {},
   "outputs": [],
   "source": [
    "from flaml.data import get_output_from_log\n",
    "time_history, best_valid_loss_history, valid_loss_history, config_history, metric_history = \\\n",
    "    get_output_from_log(filename=settings['log_file_name'], time_budget=300)\n",
    "for config in config_history:\n",
    "    print(config)"
   ]
  },
  {
   "cell_type": "code",
   "execution_count": null,
   "id": "9e3d9927-4696-450a-8c19-603da9ef2455",
   "metadata": {},
   "outputs": [],
   "source": [
    "import matplotlib.pyplot as plt\n",
    "import numpy as np\n",
    "\n",
    "plt.rcParams['font.sans-serif'] = ['Times New Roman']\n",
    "plt.rcParams['axes.unicode_minus'] = False \n",
    "\n",
    "plt.figure(figsize = (5,5) ,dpi = 300)\n",
    "plt.title('Learning Curve')\n",
    "plt.xlabel('Wall Clock Time (s)')\n",
    "plt.ylabel('Validation Accuracy')\n",
    "plt.scatter(time_history, 1 - np.array(valid_loss_history))\n",
    "plt.step(time_history, 1 - np.array(best_valid_loss_history), where='post')\n",
    "plt.show()"
   ]
  },
  {
   "cell_type": "code",
   "execution_count": null,
   "id": "5e1db7fa-aea9-4f38-b601-f1a585f90964",
   "metadata": {},
   "outputs": [],
   "source": [
    "RF=automl.model.estimator"
   ]
  },
  {
   "cell_type": "code",
   "execution_count": null,
   "id": "ad782fee-1963-4229-8ccb-9cd48483b3bd",
   "metadata": {},
   "outputs": [],
   "source": []
  },
  {
   "cell_type": "code",
   "execution_count": null,
   "id": "a2b66cc5-e3cb-4d61-aa0e-627356785169",
   "metadata": {},
   "outputs": [],
   "source": [
    "from flaml import AutoML\n",
    "automl = AutoML()\n",
    "\n",
    "settings = {\n",
    "    \"time_budget\": 300, \n",
    "    \"metric\":  'roc_auc',\n",
    "    \"estimator_list\": ['xgboost'],\n",
    "    \"log_file_name\": 'class.log',\n",
    "}\n",
    "# Train with labeled input data\n",
    "automl.fit(X_train=X_train, y_train=y_train,**settings)\n",
    "print(automl.predict_proba(X_train).shape)\n",
    "# Export the best model\n",
    "print(automl.model)"
   ]
  },
  {
   "cell_type": "code",
   "execution_count": null,
   "id": "8c07132a-a7cd-4a79-8347-7f7571b4826e",
   "metadata": {},
   "outputs": [],
   "source": [
    "automl.config_history"
   ]
  },
  {
   "cell_type": "code",
   "execution_count": null,
   "id": "cb4181f1-89da-4687-91b4-23344aac0439",
   "metadata": {},
   "outputs": [],
   "source": [
    "print('Best ML leaner:', automl.best_estimator)\n",
    "print('Best hyperparmeter config:', automl.best_config)\n",
    "print('Best accuracy on validation data: {0:.4g}'.format(1-automl.best_loss))\n",
    "print('Training duration of best run: {0:.4g} s'.format(automl.best_config_train_time))\n",
    "print(automl.model.estimator)"
   ]
  },
  {
   "cell_type": "code",
   "execution_count": null,
   "id": "4ae2c546-8569-498c-8493-08619a34e1ee",
   "metadata": {},
   "outputs": [],
   "source": [
    "\n",
    "y_pred2 = automl.predict(X_test)\n",
    "print('Predicted labels', y_pred2)\n",
    "print('True labels', y_test)\n",
    "y_pred_proba2 = automl.predict_proba(X_test)[:,1]\n",
    "gl2 =automl.predict_proba(X_test)\n",
    "gl2 = pd.DataFrame(gl2)\n",
    "gl2"
   ]
  },
  {
   "cell_type": "code",
   "execution_count": null,
   "id": "883669b6-43a2-49d1-ad2d-4732a0e75860",
   "metadata": {},
   "outputs": [],
   "source": [
    "from flaml.ml import sklearn_metric_loss_score\n",
    "print('accuracy', '=', 1 - sklearn_metric_loss_score('accuracy', y_pred2, y_test))\n",
    "print('roc_auc', '=', 1 - sklearn_metric_loss_score('roc_auc', y_pred_proba2, y_test))\n",
    "print('log_loss', '=', sklearn_metric_loss_score('log_loss', y_pred_proba2, y_test))"
   ]
  },
  {
   "cell_type": "code",
   "execution_count": null,
   "id": "725c86a2-c5c8-44fa-815d-24722dbec12c",
   "metadata": {},
   "outputs": [],
   "source": [
    "from sklearn.metrics import classification_report,recall_score,accuracy_score,f1_score\n",
    "print(classification_report(y_test,y_pred2))"
   ]
  },
  {
   "cell_type": "code",
   "execution_count": null,
   "id": "b76d7a2e-ad08-48a3-ab07-84c203aca7f8",
   "metadata": {},
   "outputs": [],
   "source": [
    "from sklearn import  metrics\n",
    "import matplotlib.pyplot as plt\n",
    "from sklearn.metrics import roc_curve\n",
    "\n",
    "plt.rcParams['font.sans-serif'] = ['Times New Roman']\n",
    "plt.rcParams['axes.unicode_minus'] = False \n",
    "\n",
    "fpr,tpr,th=roc_curve(y_test,y_pred_proba2)\n",
    "plt.figure(figsize = (5,5) ,dpi = 300)\n",
    "plt.plot(fpr,tpr, color='green', label='XGBoost_Best_AUC={:.4f}'.format(metrics.roc_auc_score(y_test,y_pred_proba2))) # roc curve\n",
    "plt.legend()\n",
    "\n",
    "plt.plot([0, 1], [0, 1], color='darkblue', linestyle='--')\n",
    "plt.xlabel('False Positive Rate')\n",
    "plt.ylabel('True Positive Rate')\n",
    "plt.title('Receiver Operating Characteristic (ROC) Curve')"
   ]
  },
  {
   "cell_type": "code",
   "execution_count": null,
   "id": "83c16e8e-53a8-4fdd-95c5-7d76a7606ea0",
   "metadata": {},
   "outputs": [],
   "source": [
    "from flaml.data import get_output_from_log\n",
    "time_history, best_valid_loss_history, valid_loss_history, config_history, metric_history = \\\n",
    "    get_output_from_log(filename=settings['log_file_name'], time_budget=300)\n",
    "for config in config_history:\n",
    "    print(config)"
   ]
  },
  {
   "cell_type": "code",
   "execution_count": null,
   "id": "fcfc17ab-d3d2-4423-8bfb-8d77126b40fb",
   "metadata": {},
   "outputs": [],
   "source": [
    "import matplotlib.pyplot as plt\n",
    "import numpy as np\n",
    "\n",
    "plt.rcParams['font.sans-serif'] = ['Times New Roman']\n",
    "plt.rcParams['axes.unicode_minus'] = False \n",
    "\n",
    "plt.figure(figsize = (5,5) ,dpi = 300)\n",
    "plt.title('Learning Curve')\n",
    "plt.xlabel('Wall Clock Time (s)')\n",
    "plt.ylabel('Validation Accuracy')\n",
    "plt.scatter(time_history, 1 - np.array(valid_loss_history))\n",
    "plt.step(time_history, 1 - np.array(best_valid_loss_history), where='post')\n",
    "plt.show()"
   ]
  },
  {
   "cell_type": "code",
   "execution_count": null,
   "id": "bc427cec-612a-472f-aefd-e0996ac79f30",
   "metadata": {},
   "outputs": [],
   "source": [
    "xgboost=automl.model.estimator"
   ]
  },
  {
   "cell_type": "code",
   "execution_count": null,
   "id": "5c10947c-8f00-4386-8dcd-cc574aaf87cb",
   "metadata": {},
   "outputs": [],
   "source": []
  },
  {
   "cell_type": "code",
   "execution_count": null,
   "id": "9196c2d4-1feb-4fca-85c1-74fc440fe2e2",
   "metadata": {},
   "outputs": [],
   "source": [
    "from flaml import AutoML\n",
    "automl = AutoML()\n",
    "\n",
    "settings = {\n",
    "    \"time_budget\": 300,  \n",
    "    \"metric\":  'roc_auc',\n",
    "    \"task\": 'classification', \n",
    "    \"estimator_list\": ['lgbm'],\n",
    "    \"log_file_name\": 'class.log', \n",
    "}\n",
    "# Train with labeled input data\n",
    "automl.fit(X_train=X_train, y_train=y_train,**settings)\n",
    "print(automl.predict_proba(X_train).shape)\n",
    "# Export the best model\n",
    "print(automl.model)"
   ]
  },
  {
   "cell_type": "code",
   "execution_count": null,
   "id": "1366d234-7b8c-4495-87b1-a5514ba7aa5f",
   "metadata": {},
   "outputs": [],
   "source": [
    "automl.config_history"
   ]
  },
  {
   "cell_type": "code",
   "execution_count": null,
   "id": "6b716595-143e-4bb1-9d2c-b85cee3ae096",
   "metadata": {},
   "outputs": [],
   "source": [
    "print('Best ML leaner:', automl.best_estimator)\n",
    "print('Best hyperparmeter config:', automl.best_config)\n",
    "print('Best accuracy on validation data: {0:.4g}'.format(1-automl.best_loss))\n",
    "print('Training duration of best run: {0:.4g} s'.format(automl.best_config_train_time))\n",
    "print(automl.model.estimator)"
   ]
  },
  {
   "cell_type": "code",
   "execution_count": null,
   "id": "ff800209-12ba-4435-a330-af32c5c56521",
   "metadata": {},
   "outputs": [],
   "source": [
    "\n",
    "y_pred3 = automl.predict(X_test)\n",
    "print('Predicted labels', y_pred3)\n",
    "print('True labels', y_test)\n",
    "y_pred_proba3 = automl.predict_proba(X_test)[:,1]\n",
    "gl3 =automl.predict_proba(X_test)\n",
    "gl3 = pd.DataFrame(gl3)\n",
    "gl3"
   ]
  },
  {
   "cell_type": "code",
   "execution_count": null,
   "id": "1368bdc0-f620-4ddc-926a-f5657f6aef64",
   "metadata": {},
   "outputs": [],
   "source": [
    "from flaml.ml import sklearn_metric_loss_score\n",
    "print('accuracy', '=', 1 - sklearn_metric_loss_score('accuracy', y_pred3, y_test))\n",
    "print('roc_auc', '=', 1 - sklearn_metric_loss_score('roc_auc', y_pred_proba3, y_test))\n",
    "print('log_loss', '=', sklearn_metric_loss_score('log_loss', y_pred_proba3, y_test))"
   ]
  },
  {
   "cell_type": "code",
   "execution_count": null,
   "id": "a75d1aee-1059-440b-96ab-1e20bd22b1da",
   "metadata": {},
   "outputs": [],
   "source": [
    "from sklearn.metrics import classification_report,recall_score,accuracy_score,f1_score\n",
    "print(classification_report(y_test,y_pred3))"
   ]
  },
  {
   "cell_type": "code",
   "execution_count": null,
   "id": "ac60568e-73f1-4f36-8d7a-09f55842197e",
   "metadata": {},
   "outputs": [],
   "source": [
    "from sklearn import  metrics\n",
    "import matplotlib.pyplot as plt\n",
    "from sklearn.metrics import roc_curve\n",
    "\n",
    "plt.rcParams['font.sans-serif'] = ['Times New Roman']\n",
    "plt.rcParams['axes.unicode_minus'] = False \n",
    "\n",
    "plt.figure(figsize = (5,5) ,dpi = 300)\n",
    "fpr,tpr,th=roc_curve(y_test,y_pred_proba3)\n",
    "plt.plot(fpr,tpr, color='gold', label='LGBM_Best_AUC={:.4f}'.format(metrics.roc_auc_score(y_test,y_pred_proba3))) # roc curve\n",
    "plt.legend()\n",
    "\n",
    "plt.plot([0, 1], [0, 1], color='darkblue', linestyle='--')\n",
    "plt.xlabel('False Positive Rate')\n",
    "plt.ylabel('True Positive Rate')\n",
    "plt.title('Receiver Operating Characteristic (ROC) Curve')"
   ]
  },
  {
   "cell_type": "code",
   "execution_count": null,
   "id": "954123a0-d382-4b4f-98d6-e18ef373b8d0",
   "metadata": {},
   "outputs": [],
   "source": [
    "from flaml.data import get_output_from_log\n",
    "time_history, best_valid_loss_history, valid_loss_history, config_history, metric_history = \\\n",
    "    get_output_from_log(filename=settings['log_file_name'], time_budget=300)\n",
    "for config in config_history:\n",
    "    print(config)"
   ]
  },
  {
   "cell_type": "code",
   "execution_count": null,
   "id": "9a8a658e-d8ad-419d-96b1-418d79b1b367",
   "metadata": {},
   "outputs": [],
   "source": [
    "import matplotlib.pyplot as plt\n",
    "import numpy as np\n",
    "\n",
    "plt.rcParams['font.sans-serif'] = ['Times New Roman']\n",
    "plt.rcParams['axes.unicode_minus'] = False \n",
    "\n",
    "plt.figure(figsize = (5,5) ,dpi = 300)\n",
    "plt.title('Learning Curve')\n",
    "plt.xlabel('Wall Clock Time (s)')\n",
    "plt.ylabel('Validation Accuracy')\n",
    "plt.scatter(time_history, 1 - np.array(valid_loss_history))\n",
    "plt.step(time_history, 1 - np.array(best_valid_loss_history), where='post')\n",
    "plt.show()"
   ]
  },
  {
   "cell_type": "code",
   "execution_count": null,
   "id": "05bff620-ca2d-424d-9224-cd0c157d777d",
   "metadata": {},
   "outputs": [],
   "source": [
    "lgbm=automl.model.estimator"
   ]
  },
  {
   "cell_type": "code",
   "execution_count": null,
   "id": "f921ff24-f35e-4fc7-b924-90c1a8c26fc1",
   "metadata": {},
   "outputs": [],
   "source": []
  },
  {
   "cell_type": "code",
   "execution_count": null,
   "id": "18b90e39-c833-4831-9274-4b4fd0fa423e",
   "metadata": {},
   "outputs": [],
   "source": [
    "from flaml import AutoML\n",
    "automl = AutoML()\n",
    "\n",
    "settings = {\n",
    "    \"time_budget\": 300,  \n",
    "    \"metric\":  'roc_auc', \n",
    "    \"estimator_list\": ['catboost'],\n",
    "    \"log_file_name\": 'class.log', \n",
    "}\n",
    "# Train with labeled input data\n",
    "automl.fit(X_train=X_train, y_train=y_train,**settings)\n",
    "print(automl.predict_proba(X_train).shape)\n",
    "# Export the best model\n",
    "print(automl.model)"
   ]
  },
  {
   "cell_type": "code",
   "execution_count": null,
   "id": "55581503-84f1-4f39-8073-0ce2bb8bebab",
   "metadata": {},
   "outputs": [],
   "source": [
    "automl.config_history"
   ]
  },
  {
   "cell_type": "code",
   "execution_count": null,
   "id": "82fa1a21-ace0-494e-8dc6-4bcba30c8c69",
   "metadata": {},
   "outputs": [],
   "source": [
    "print('Best ML leaner:', automl.best_estimator)\n",
    "print('Best hyperparmeter config:', automl.best_config)\n",
    "print('Best accuracy on validation data: {0:.4g}'.format(1-automl.best_loss))\n",
    "print('Training duration of best run: {0:.4g} s'.format(automl.best_config_train_time))\n",
    "print(automl.model.estimator)"
   ]
  },
  {
   "cell_type": "code",
   "execution_count": null,
   "id": "a9dcb754-c568-4fb6-9c96-6fb7daa4b061",
   "metadata": {},
   "outputs": [],
   "source": [
    "\n",
    "y_pred4 = automl.predict(X_test)\n",
    "print('Predicted labels', y_pred4)\n",
    "print('True labels', y_test)\n",
    "y_pred_proba4 = automl.predict_proba(X_test)[:,1]\n",
    "gl4 =automl.predict_proba(X_test)\n",
    "gl4 = pd.DataFrame(gl4)\n",
    "gl4"
   ]
  },
  {
   "cell_type": "code",
   "execution_count": null,
   "id": "3b15ec2a-6637-435c-abdf-e3469bfcfaed",
   "metadata": {},
   "outputs": [],
   "source": [
    "from flaml.ml import sklearn_metric_loss_score\n",
    "print('accuracy', '=', 1 - sklearn_metric_loss_score('accuracy', y_pred4, y_test))\n",
    "print('roc_auc', '=', 1 - sklearn_metric_loss_score('roc_auc', y_pred_proba4, y_test))\n",
    "print('log_loss', '=', sklearn_metric_loss_score('log_loss', y_pred_proba4, y_test))"
   ]
  },
  {
   "cell_type": "code",
   "execution_count": null,
   "id": "061f368a-a637-4c4c-9e3c-ef2d6c581ff5",
   "metadata": {},
   "outputs": [],
   "source": [
    "from sklearn.metrics import classification_report,recall_score,accuracy_score,f1_score\n",
    "print(classification_report(y_test,y_pred4))"
   ]
  },
  {
   "cell_type": "code",
   "execution_count": null,
   "id": "4c4d4a0e-63fb-4712-a5af-97be1b9ea1f4",
   "metadata": {},
   "outputs": [],
   "source": [
    "from sklearn import  metrics\n",
    "import matplotlib.pyplot as plt\n",
    "from sklearn.metrics import roc_curve\n",
    "\n",
    "plt.rcParams['font.sans-serif'] = ['Times New Roman']\n",
    "plt.rcParams['axes.unicode_minus'] = False \n",
    "\n",
    "plt.figure(figsize = (5,5) ,dpi = 300)\n",
    "fpr,tpr,th=roc_curve(y_test,y_pred_proba4)\n",
    "plt.plot(fpr,tpr, color='purple', label='Catboost_Best_AUC={:.4f}'.format(metrics.roc_auc_score(y_test,y_pred_proba4))) # roc curve\n",
    "plt.legend()\n",
    "\n",
    "plt.plot([0, 1], [0, 1], color='darkblue', linestyle='--')\n",
    "plt.xlabel('False Positive Rate')\n",
    "plt.ylabel('True Positive Rate')\n",
    "plt.title('Receiver Operating Characteristic (ROC) Curve')"
   ]
  },
  {
   "cell_type": "code",
   "execution_count": null,
   "id": "33994e36-2984-492f-9a91-460f8269cba3",
   "metadata": {},
   "outputs": [],
   "source": [
    "from flaml.data import get_output_from_log\n",
    "time_history, best_valid_loss_history, valid_loss_history, config_history, metric_history = \\\n",
    "    get_output_from_log(filename=settings['log_file_name'], time_budget=300)\n",
    "for config in config_history:\n",
    "    print(config)"
   ]
  },
  {
   "cell_type": "code",
   "execution_count": null,
   "id": "2b7b4953-0e91-473e-a360-b732f0d68c1f",
   "metadata": {},
   "outputs": [],
   "source": [
    "import matplotlib.pyplot as plt\n",
    "import numpy as np\n",
    "\n",
    "plt.rcParams['font.sans-serif'] = ['Times New Roman']\n",
    "plt.rcParams['axes.unicode_minus'] = False \n",
    "\n",
    "plt.figure(figsize = (5,5) ,dpi = 300)\n",
    "plt.title('Learning Curve')\n",
    "plt.xlabel('Wall Clock Time (s)')\n",
    "plt.ylabel('Validation Accuracy') \n",
    "plt.scatter(time_history, 1 - np.array(valid_loss_history))\n",
    "plt.step(time_history, 1 - np.array(best_valid_loss_history), where='post')\n",
    "plt.show()"
   ]
  },
  {
   "cell_type": "code",
   "execution_count": null,
   "id": "ddc7ed40-8c17-4b99-bd99-dfb43a8149cc",
   "metadata": {},
   "outputs": [],
   "source": [
    "catboost=automl.model.estimator"
   ]
  },
  {
   "cell_type": "code",
   "execution_count": null,
   "id": "c59d623a-604d-4753-af9f-d3ce9c3438a9",
   "metadata": {},
   "outputs": [],
   "source": []
  },
  {
   "cell_type": "code",
   "execution_count": null,
   "id": "457a8b70-ba09-468d-b772-857d36152513",
   "metadata": {},
   "outputs": [],
   "source": [
    "from flaml import AutoML\n",
    "automl = AutoML()\n",
    "\n",
    "settings = {\n",
    "    \"time_budget\": 300, \n",
    "    \"metric\":  'roc_auc', \n",
    "    \"estimator_list\": ['extra_tree'],\n",
    "    \"log_file_name\": 'class.log', \n",
    "}\n",
    "# Train with labeled input data\n",
    "automl.fit(X_train=X_train, y_train=y_train,**settings)\n",
    "print(automl.predict_proba(X_train).shape)\n",
    "# Export the best model\n",
    "print(automl.model)"
   ]
  },
  {
   "cell_type": "code",
   "execution_count": null,
   "id": "8f5243f6-6426-4189-85e1-3022bb282dc6",
   "metadata": {},
   "outputs": [],
   "source": [
    "automl.config_history"
   ]
  },
  {
   "cell_type": "code",
   "execution_count": null,
   "id": "c4622668-1feb-44be-b1ad-34bcf8325e93",
   "metadata": {},
   "outputs": [],
   "source": [
    "print('Best ML leaner:', automl.best_estimator)\n",
    "print('Best hyperparmeter config:', automl.best_config)\n",
    "print('Best accuracy on validation data: {0:.4g}'.format(1-automl.best_loss))\n",
    "print('Training duration of best run: {0:.4g} s'.format(automl.best_config_train_time))\n",
    "print(automl.model.estimator)"
   ]
  },
  {
   "cell_type": "code",
   "execution_count": null,
   "id": "b6f95bbf-7025-4797-beac-fa7857f0ab1e",
   "metadata": {},
   "outputs": [],
   "source": [
    "\n",
    "y_pred5 = automl.predict(X_test)\n",
    "print('Predicted labels', y_pred5)\n",
    "print('True labels', y_test)\n",
    "y_pred_proba5 = automl.predict_proba(X_test)[:,1]\n",
    "gl5 =automl.predict_proba(X_test)\n",
    "gl5 = pd.DataFrame(gl5)\n",
    "gl5"
   ]
  },
  {
   "cell_type": "code",
   "execution_count": null,
   "id": "d11801a5-e144-4ac7-80a1-29772a331982",
   "metadata": {},
   "outputs": [],
   "source": [
    "from flaml.ml import sklearn_metric_loss_score\n",
    "print('accuracy', '=', 1 - sklearn_metric_loss_score('accuracy', y_pred5, y_test))\n",
    "print('roc_auc', '=', 1 - sklearn_metric_loss_score('roc_auc', y_pred_proba5, y_test))\n",
    "print('log_loss', '=', sklearn_metric_loss_score('log_loss', y_pred_proba5, y_test))"
   ]
  },
  {
   "cell_type": "code",
   "execution_count": null,
   "id": "405a52ac-a842-4758-b4f3-7aeef53fcc87",
   "metadata": {},
   "outputs": [],
   "source": [
    "from sklearn.metrics import classification_report,recall_score,accuracy_score,f1_score\n",
    "print(classification_report(y_test,y_pred5))"
   ]
  },
  {
   "cell_type": "code",
   "execution_count": null,
   "id": "ad01b367-a2d9-4983-a12d-e51f5e73004c",
   "metadata": {},
   "outputs": [],
   "source": [
    "from sklearn import  metrics\n",
    "import matplotlib.pyplot as plt\n",
    "from sklearn.metrics import roc_curve\n",
    "\n",
    "plt.rcParams['font.sans-serif'] = ['Times New Roman']\n",
    "plt.rcParams['axes.unicode_minus'] = False \n",
    "\n",
    "plt.figure(figsize = (5,5) ,dpi = 300)\n",
    "fpr,tpr,th=roc_curve(y_test,y_pred_proba5)\n",
    "plt.plot(fpr,tpr, color='blue', label='ET_Best_AUC={:.4f}'.format(metrics.roc_auc_score(y_test,y_pred_proba5))) # roc curve\n",
    "plt.legend()\n",
    "\n",
    "plt.plot([0, 1], [0, 1], color='darkblue', linestyle='--')\n",
    "plt.xlabel('False Positive Rate')\n",
    "plt.ylabel('True Positive Rate')\n",
    "plt.title('Receiver Operating Characteristic (ROC) Curve')"
   ]
  },
  {
   "cell_type": "code",
   "execution_count": null,
   "id": "a34e55e2-a9c6-45f6-ab06-f7e2e7023589",
   "metadata": {},
   "outputs": [],
   "source": [
    "from flaml.data import get_output_from_log\n",
    "time_history, best_valid_loss_history, valid_loss_history, config_history, metric_history = \\\n",
    "    get_output_from_log(filename=settings['log_file_name'], time_budget=300)\n",
    "for config in config_history:\n",
    "    print(config)"
   ]
  },
  {
   "cell_type": "code",
   "execution_count": null,
   "id": "fe3df46e-3266-4be7-8dd9-f54529360805",
   "metadata": {},
   "outputs": [],
   "source": [
    "import matplotlib.pyplot as plt\n",
    "import numpy as np\n",
    "\n",
    "plt.rcParams['font.sans-serif'] = ['Times New Roman']\n",
    "plt.rcParams['axes.unicode_minus'] = False \n",
    "\n",
    "plt.figure(figsize = (5,5) ,dpi = 300)\n",
    "plt.title('Learning Curve')\n",
    "plt.xlabel('Wall Clock Time (s)')\n",
    "plt.ylabel('Validation Accuracy')\n",
    "plt.scatter(time_history, 1 - np.array(valid_loss_history))\n",
    "plt.step(time_history, 1 - np.array(best_valid_loss_history), where='post')\n",
    "plt.show()"
   ]
  },
  {
   "cell_type": "code",
   "execution_count": null,
   "id": "8e0f12fa-f5ce-4f84-b0d1-8797e8229961",
   "metadata": {},
   "outputs": [],
   "source": [
    "extra_tree=automl.model.estimator"
   ]
  },
  {
   "cell_type": "code",
   "execution_count": null,
   "id": "03a50952-476d-4d80-8805-33a28282e27d",
   "metadata": {},
   "outputs": [],
   "source": []
  },
  {
   "cell_type": "code",
   "execution_count": null,
   "id": "5482b8ce-96ad-4d3f-b3ba-6820c5a6a985",
   "metadata": {},
   "outputs": [],
   "source": [
    "from flaml import AutoML\n",
    "automl = AutoML()\n",
    "\n",
    "settings = {\n",
    "    \"time_budget\": 300,  \n",
    "    \"metric\":  'roc_auc',\n",
    "    \"task\": 'classification',\n",
    "    \"estimator_list\": ['lrl1'],\n",
    "    \"log_file_name\": 'class.log',\n",
    "}\n",
    "# Train with labeled input data\n",
    "automl.fit(X_train=X_train, y_train=y_train,**settings)\n",
    "print(automl.predict_proba(X_train).shape)\n",
    "# Export the best model\n",
    "print(automl.model)"
   ]
  },
  {
   "cell_type": "code",
   "execution_count": null,
   "id": "9db84f3f-458a-4af4-8cf0-151b9ede63e1",
   "metadata": {},
   "outputs": [],
   "source": [
    "automl.config_history"
   ]
  },
  {
   "cell_type": "code",
   "execution_count": null,
   "id": "cd8eab7c-b951-4fe5-97ac-947563d465ee",
   "metadata": {},
   "outputs": [],
   "source": [
    "print('Best ML leaner:', automl.best_estimator)\n",
    "print('Best hyperparmeter config:', automl.best_config)\n",
    "print('Best accuracy on validation data: {0:.4g}'.format(1-automl.best_loss))\n",
    "print('Training duration of best run: {0:.4g} s'.format(automl.best_config_train_time))\n",
    "print(automl.model.estimator)"
   ]
  },
  {
   "cell_type": "code",
   "execution_count": null,
   "id": "53dc1a02-2c59-4a06-98e3-7685006c072c",
   "metadata": {},
   "outputs": [],
   "source": [
    "\n",
    "y_pred6 = automl.predict(X_test)\n",
    "print('Predicted labels', y_pred6)\n",
    "print('True labels', y_test)\n",
    "y_pred_proba6 = automl.predict_proba(X_test)[:,1]\n",
    "gl6 =automl.predict_proba(X_test)\n",
    "gl6 = pd.DataFrame(gl6)\n",
    "gl6"
   ]
  },
  {
   "cell_type": "code",
   "execution_count": null,
   "id": "c3d6c561-db65-4eed-9d06-f81f395805c1",
   "metadata": {},
   "outputs": [],
   "source": [
    "from flaml.ml import sklearn_metric_loss_score\n",
    "print('accuracy', '=', 1 - sklearn_metric_loss_score('accuracy', y_pred6, y_test))\n",
    "print('roc_auc', '=', 1 - sklearn_metric_loss_score('roc_auc', y_pred_proba6, y_test))\n",
    "print('log_loss', '=', sklearn_metric_loss_score('log_loss', y_pred_proba6, y_test))"
   ]
  },
  {
   "cell_type": "code",
   "execution_count": null,
   "id": "e788000e-1296-4c2c-b863-d1c6c4e3b25b",
   "metadata": {},
   "outputs": [],
   "source": [
    "from sklearn.metrics import classification_report,recall_score,accuracy_score,f1_score\n",
    "print(classification_report(y_test,y_pred6))"
   ]
  },
  {
   "cell_type": "code",
   "execution_count": null,
   "id": "25e715f2-6517-471d-b9f9-26e95ef9b6ba",
   "metadata": {},
   "outputs": [],
   "source": [
    "from sklearn import  metrics\n",
    "import matplotlib.pyplot as plt\n",
    "from sklearn.metrics import roc_curve\n",
    "\n",
    "plt.rcParams['font.sans-serif'] = ['Times New Roman']\n",
    "plt.rcParams['axes.unicode_minus'] = False \n",
    "\n",
    "plt.figure(figsize = (5,5) ,dpi = 300)\n",
    "fpr,tpr,th=roc_curve(y_test,y_pred_proba6)\n",
    "plt.plot(fpr,tpr, color='orange', label='LR_Best_AUC={:.4f}'.format(metrics.roc_auc_score(y_test,y_pred_proba6))) # roc curve\n",
    "plt.legend()\n",
    "\n",
    "plt.plot([0, 1], [0, 1], color='darkblue', linestyle='--')\n",
    "plt.xlabel('False Positive Rate')\n",
    "plt.ylabel('True Positive Rate')\n",
    "plt.title('Receiver Operating Characteristic (ROC) Curve')"
   ]
  },
  {
   "cell_type": "code",
   "execution_count": null,
   "id": "cada6458-23a1-48e5-8b77-c9a301a429e5",
   "metadata": {},
   "outputs": [],
   "source": [
    "from flaml.data import get_output_from_log\n",
    "time_history, best_valid_loss_history, valid_loss_history, config_history, metric_history = \\\n",
    "    get_output_from_log(filename=settings['log_file_name'], time_budget=300)\n",
    "for config in config_history:\n",
    "    print(config)"
   ]
  },
  {
   "cell_type": "code",
   "execution_count": null,
   "id": "8db184f8-d299-43b8-8bd6-2d11e71004a1",
   "metadata": {},
   "outputs": [],
   "source": [
    "import matplotlib.pyplot as plt\n",
    "import numpy as np\n",
    "\n",
    "plt.rcParams['font.sans-serif'] = ['Times New Roman']\n",
    "plt.rcParams['axes.unicode_minus'] = False \n",
    "\n",
    "plt.figure(figsize = (5,5) ,dpi = 300)\n",
    "plt.title('Learning Curve')\n",
    "plt.xlabel('Wall Clock Time (s)')\n",
    "plt.ylabel('Validation Accuracy')\n",
    "plt.scatter(time_history, 1 - np.array(valid_loss_history))\n",
    "plt.step(time_history, 1 - np.array(best_valid_loss_history), where='post')\n",
    "plt.show()"
   ]
  },
  {
   "cell_type": "code",
   "execution_count": null,
   "id": "8a12b5bd-4037-436b-8911-57d04e38c5bd",
   "metadata": {},
   "outputs": [],
   "source": [
    "lr=automl.model.estimator"
   ]
  },
  {
   "cell_type": "code",
   "execution_count": null,
   "id": "6be75494-2b52-4bec-b34f-1491a696d2a3",
   "metadata": {},
   "outputs": [],
   "source": []
  },
  {
   "cell_type": "code",
   "execution_count": null,
   "id": "092f3523-6193-4711-9cc0-3bcb1626dde2",
   "metadata": {},
   "outputs": [],
   "source": [
    "from sklearn import  metrics\n",
    "import matplotlib.pyplot as plt\n",
    "from sklearn.metrics import roc_curve\n",
    "\n",
    "plt.rcParams['font.sans-serif'] = ['Times New Roman']\n",
    "plt.rcParams['axes.unicode_minus'] = False\n",
    "\n",
    "plt.figure(figsize = (5,5) ,dpi = 300)\n",
    "\n",
    "fpr,tpr,th=roc_curve(y_test,y_pred_proba6)\n",
    "plt.plot(fpr,tpr, color='orange', label='LR_Best_AUC={:.4f}'.format(metrics.roc_auc_score(y_test,y_pred_proba6))) # roc curve\n",
    "\n",
    "fpr,tpr,th=roc_curve(y_test,y_pred_proba1)\n",
    "plt.plot(fpr,tpr, color='red', label='RF_Best_AUC={:.4f}'.format(metrics.roc_auc_score(y_test,y_pred_proba1))) # roc curve\n",
    "\n",
    "fpr,tpr,th=roc_curve(y_test,y_pred_proba5)\n",
    "plt.plot(fpr,tpr, color='steelblue', label='ET_Best_AUC={:.4f}'.format(metrics.roc_auc_score(y_test,y_pred_proba5))) # roc curve\n",
    "\n",
    "fpr,tpr,th=roc_curve(y_test,y_pred_proba3)\n",
    "plt.plot(fpr,tpr, color='gold', label='LGBM_Best_AUC={:.4f}'.format(metrics.roc_auc_score(y_test,y_pred_proba3))) # roc curve\n",
    "\n",
    "fpr,tpr,th=roc_curve(y_test,y_pred_proba2)\n",
    "plt.plot(fpr,tpr, color='green', label='XGBoost_Best_AUC={:.4f}'.format(metrics.roc_auc_score(y_test,y_pred_proba2))) # roc curve\n",
    "\n",
    "fpr,tpr,th=roc_curve(y_test,y_pred_proba4)\n",
    "plt.plot(fpr,tpr, color='purple', label='Catboost_Best_AUC={:.4f}'.format(metrics.roc_auc_score(y_test,y_pred_proba4))) # roc curve\n",
    "\n",
    "plt.legend()\n",
    "plt.plot([0, 1], [0, 1], color='darkblue', linestyle='--')\n",
    "plt.xlabel('False Positive Rate')\n",
    "plt.ylabel('True Positive Rate')\n",
    "plt.title('Receiver Operating Characteristic (ROC) Curve')"
   ]
  },
  {
   "cell_type": "code",
   "execution_count": null,
   "id": "062b52f4-8085-4c0a-89b4-3347befb3f7a",
   "metadata": {},
   "outputs": [],
   "source": []
  },
  {
   "cell_type": "code",
   "execution_count": null,
   "id": "45c5c7ee-4acb-4c44-8a82-cce5ea2fea19",
   "metadata": {},
   "outputs": [],
   "source": [
    "RF.feature_importances_"
   ]
  },
  {
   "cell_type": "code",
   "execution_count": null,
   "id": "a10a89a5-6014-4b80-9a0a-5e5c9e2454e0",
   "metadata": {},
   "outputs": [],
   "source": [
    "RF.feature_names_in_"
   ]
  },
  {
   "cell_type": "code",
   "execution_count": null,
   "id": "f7c3bdcb-fec6-4898-8777-2c8a5c188198",
   "metadata": {},
   "outputs": [],
   "source": [
    "xgboost.feature_importances_"
   ]
  },
  {
   "cell_type": "code",
   "execution_count": null,
   "id": "71f17f17-7a70-46d5-aa46-ee161218d2dc",
   "metadata": {},
   "outputs": [],
   "source": [
    "xgboost.feature_names_in_"
   ]
  },
  {
   "cell_type": "code",
   "execution_count": null,
   "id": "520dbf51-e7ff-4886-bb48-32c149140817",
   "metadata": {},
   "outputs": [],
   "source": [
    "lgbm.feature_importances_"
   ]
  },
  {
   "cell_type": "code",
   "execution_count": null,
   "id": "4118bd84-a117-4e86-ab4e-9d790113c67f",
   "metadata": {},
   "outputs": [],
   "source": [
    "lgbm.feature_name_"
   ]
  },
  {
   "cell_type": "code",
   "execution_count": null,
   "id": "4f1d1dfe-37cd-4fc5-9ff3-fb1588f6654e",
   "metadata": {},
   "outputs": [],
   "source": [
    "catboost.feature_importances_"
   ]
  },
  {
   "cell_type": "code",
   "execution_count": null,
   "id": "062a56ff-8c7d-4b8d-9d9a-fa9ee61dcc22",
   "metadata": {},
   "outputs": [],
   "source": [
    "catboost.feature_names_"
   ]
  },
  {
   "cell_type": "code",
   "execution_count": null,
   "id": "c6f38c64-5cff-4662-9d22-b72f38fe21a2",
   "metadata": {},
   "outputs": [],
   "source": [
    "lr.coef_"
   ]
  },
  {
   "cell_type": "code",
   "execution_count": null,
   "id": "049af81c-d383-4a06-aac7-8bfb967ea89a",
   "metadata": {},
   "outputs": [],
   "source": [
    "lr.feature_names_in_"
   ]
  },
  {
   "cell_type": "code",
   "execution_count": null,
   "id": "7dbd57ac-6cc2-400c-acad-faa4605fad48",
   "metadata": {},
   "outputs": [],
   "source": [
    "extra_tree.feature_importances_"
   ]
  },
  {
   "cell_type": "code",
   "execution_count": null,
   "id": "0c3a136a-bbcb-4789-bc7b-2834908b4154",
   "metadata": {},
   "outputs": [],
   "source": [
    "extra_tree.feature_names_in_"
   ]
  },
  {
   "cell_type": "code",
   "execution_count": null,
   "id": "f64cf267-5b0c-4e76-a93a-006e94e56b95",
   "metadata": {},
   "outputs": [],
   "source": []
  },
  {
   "cell_type": "code",
   "execution_count": null,
   "id": "8d264e47-3151-432a-93fb-d9b38a1c3d73",
   "metadata": {},
   "outputs": [],
   "source": []
  },
  {
   "cell_type": "code",
   "execution_count": null,
   "id": "46e803fc-bde0-4297-b9a3-20e208a81747",
   "metadata": {},
   "outputs": [],
   "source": []
  },
  {
   "cell_type": "code",
   "execution_count": null,
   "id": "081c160c-11f6-4c1f-95e9-0418196aa22a",
   "metadata": {},
   "outputs": [],
   "source": []
  },
  {
   "cell_type": "code",
   "execution_count": null,
   "id": "ea37a898-bfe9-4a82-89d4-66afb8bde8e2",
   "metadata": {},
   "outputs": [],
   "source": []
  },
  {
   "cell_type": "code",
   "execution_count": null,
   "id": "539f875e-313e-4ab1-b008-0db8abee1b24",
   "metadata": {},
   "outputs": [],
   "source": []
  },
  {
   "cell_type": "code",
   "execution_count": null,
   "id": "698a0b36-2164-4415-a21e-ffd62928f317",
   "metadata": {},
   "outputs": [],
   "source": []
  },
  {
   "cell_type": "code",
   "execution_count": null,
   "id": "0ee6c63f-59ab-40d8-b452-c08da8b463e0",
   "metadata": {},
   "outputs": [],
   "source": []
  },
  {
   "cell_type": "code",
   "execution_count": null,
   "id": "e14936a3-30f1-4219-8c98-4d73781b1862",
   "metadata": {},
   "outputs": [],
   "source": []
  },
  {
   "cell_type": "code",
   "execution_count": null,
   "id": "f832358f-f2ed-47f7-931d-2be0aedaf72d",
   "metadata": {},
   "outputs": [],
   "source": []
  },
  {
   "cell_type": "code",
   "execution_count": null,
   "id": "552068d7-3da1-44b5-b469-980a8944e9a0",
   "metadata": {},
   "outputs": [],
   "source": []
  },
  {
   "cell_type": "code",
   "execution_count": null,
   "id": "47cee41a-3292-4741-8b2a-28b769e342ca",
   "metadata": {},
   "outputs": [],
   "source": []
  }
 ],
 "metadata": {
  "kernelspec": {
   "display_name": "Python 3 (ipykernel)",
   "language": "python",
   "name": "python3"
  },
  "language_info": {
   "codemirror_mode": {
    "name": "ipython",
    "version": 3
   },
   "file_extension": ".py",
   "mimetype": "text/x-python",
   "name": "python",
   "nbconvert_exporter": "python",
   "pygments_lexer": "ipython3",
   "version": "3.11.7"
  }
 },
 "nbformat": 4,
 "nbformat_minor": 5
}
