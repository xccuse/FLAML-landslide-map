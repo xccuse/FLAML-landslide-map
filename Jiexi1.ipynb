{
 "cells": [
  {
   "cell_type": "code",
   "execution_count": null,
   "id": "d83e4d06-45d1-4b5f-b9b2-34f3913eb466",
   "metadata": {},
   "outputs": [],
   "source": [
    "#Import the adapted code base\n",
    "import pandas as pd\n",
    "import csv\n",
    "import numpy as np\n",
    "from sklearn.model_selection import train_test_split"
   ]
  },
  {
   "cell_type": "code",
   "execution_count": null,
   "id": "9957284a-15e9-4465-8d80-d917317c9ed0",
   "metadata": {},
   "outputs": [],
   "source": [
    "#Read in positive and negative sample data\n",
    "z = pd.read_csv(r'D:/LSM/1JieXi2/z.csv')\n",
    "f = pd.read_csv(r'D:/LSM/1JieXi2/f.csv')"
   ]
  },
  {
   "cell_type": "code",
   "execution_count": null,
   "id": "4e4eee78-3090-4a51-a112-2e4db3c245ed",
   "metadata": {},
   "outputs": [],
   "source": [
    "#\"Set labels\"\n",
    "z['Class'] = '1'\n",
    "f['Class'] = '0'"
   ]
  },
  {
   "cell_type": "code",
   "execution_count": null,
   "id": "144e3286-ac8d-489b-ad1b-5b5d69bbde3d",
   "metadata": {},
   "outputs": [],
   "source": [
    "#Clear missing values\n",
    "is_minus_9999 = (f == -9999)\n",
    "\n",
    "minus_9999_count = is_minus_9999.sum()\n",
    "\n",
    "print(minus_9999_count)\n",
    "\n",
    "for column in f.columns:\n",
    "    if minus_9999_count[column] > 0:\n",
    "        print(f\"Column: {column} has {minus_9999_count[column]} occurrences of -9999\")\n",
    "        print(f[is_minus_9999[column]])"
   ]
  },
  {
   "cell_type": "code",
   "execution_count": null,
   "id": "6994ea1a-dabe-4a9a-8626-bbdf14a3d988",
   "metadata": {},
   "outputs": [],
   "source": [
    "#Clear missing values\n",
    "is_minus_9999 = (z == -9999)\n",
    "\n",
    "minus_9999_count = is_minus_9999.sum()\n",
    "\n",
    "print(minus_9999_count)\n",
    "\n",
    "for column in z.columns:\n",
    "    if minus_9999_count[column] > 0:\n",
    "        print(f\"Column: {column} has {minus_9999_count[column]} occurrences of -9999\")\n",
    "        print(z[is_minus_9999[column]])"
   ]
  },
  {
   "cell_type": "code",
   "execution_count": null,
   "id": "b4290940-670c-4955-b661-dc362236d50a",
   "metadata": {},
   "outputs": [],
   "source": [
    "#Record intermediate files\n",
    "zon = pd.concat([f, z], ignore_index=True)\n",
    "zon.to_csv(r'D:/LSM/1JieXi2/fz.csv')"
   ]
  },
  {
   "cell_type": "code",
   "execution_count": null,
   "id": "d610f8ac-efbf-46ca-8187-61bd43e89875",
   "metadata": {},
   "outputs": [],
   "source": []
  },
  {
   "cell_type": "code",
   "execution_count": null,
   "id": "e7ead256-0ea3-4c06-877d-950af5117e6f",
   "metadata": {},
   "outputs": [],
   "source": [
    "#Import the adapted code base\n",
    "import pandas as pd\n",
    "import csv\n",
    "import numpy as np\n",
    "from sklearn.model_selection import train_test_split"
   ]
  },
  {
   "cell_type": "code",
   "execution_count": null,
   "id": "c0ce923e-b422-466a-b8ce-cca3efdaa9a7",
   "metadata": {},
   "outputs": [],
   "source": [
    "#Read in positive and negative sample data\n",
    "zon = pd.read_csv(r'D:/LSM/1JieXi2/fz.csv')\n",
    "zon = zon.drop(zon.columns[0], axis=1)"
   ]
  },
  {
   "cell_type": "code",
   "execution_count": null,
   "id": "6057f045-6367-4691-ade1-50717ec13c4c",
   "metadata": {},
   "outputs": [],
   "source": [
    "#Clean the data\n",
    "zon = zon.drop(zon.columns[-1], axis=1)"
   ]
  },
  {
   "cell_type": "code",
   "execution_count": null,
   "id": "99518d4e-83de-43df-ab29-cd2a1ef797b8",
   "metadata": {},
   "outputs": [],
   "source": [
    "#Rename each feature value\n",
    "column_mapping = {\n",
    "    'DEM': 'Elevation',\n",
    "    'Slope': 'Slope',\n",
    "    'Aspect': 'Aspect',\n",
    "    'JXtwi': 'TWI',\n",
    "    'RDLS': 'Topographic relief',\n",
    "    'ys': 'Strata',\n",
    "    'TPI': 'Slope position',\n",
    "    'curvature': 'Slope curvature',\n",
    "    'landcover': 'Land cover',\n",
    "    'NDVI2': 'NDVI',\n",
    "    'Driver': 'Distance to river',\n",
    "    'rainfallzh': 'Accumulated rainfall'\n",
    "}\n",
    "\n",
    "zon.rename(columns=column_mapping, inplace=True)"
   ]
  },
  {
   "cell_type": "code",
   "execution_count": null,
   "id": "567f6b1b-3616-48bc-9371-e5b7cb380c6f",
   "metadata": {},
   "outputs": [],
   "source": [
    "#pearson correlation coefficient analysis\n",
    "corr = zon.corr(method='pearson')"
   ]
  },
  {
   "cell_type": "code",
   "execution_count": null,
   "id": "422863bc-9f78-4bd8-a71a-5718515faeaa",
   "metadata": {},
   "outputs": [],
   "source": [
    "#Import the adapted code base\n",
    "# -*- coding: utf-8 -*-\n",
    "\n",
    "import pandas as pd\n",
    "import numpy as np\n",
    "import csv\n",
    "import codecs\n",
    "from sklearn import preprocessing\n",
    "from sklearn.model_selection import train_test_split\n",
    "from sklearn.metrics import confusion_matrix\n",
    "from sklearn.ensemble import RandomForestClassifier\n",
    "import matplotlib.pyplot as plt\n",
    "from sklearn.metrics import roc_curve\n",
    "import warnings\n",
    "warnings.filterwarnings(\"ignore\")"
   ]
  },
  {
   "cell_type": "code",
   "execution_count": null,
   "id": "8f686039-16cd-4aec-b499-3f632c50d0a2",
   "metadata": {},
   "outputs": [],
   "source": [
    "#The correlation coefficient analysis is the first plotting method\n",
    "import seaborn as sns\n",
    "import warnings\n",
    "warnings.filterwarnings('ignore')\n",
    "\n",
    "plt.rcParams['font.sans-serif'] = ['Times New Roman']\n",
    "plt.rcParams['axes.unicode_minus'] = False \n",
    "\n",
    "ax = plt.subplots(figsize=(22, 20), dpi=300)\n",
    "#ax = plt.subplots(figsize=(20, 18))\n",
    "ax = sns.heatmap(corr, square=True, annot=True, cmap=sns.diverging_palette(255,5,as_cmap=True), annot_kws={\"size\": 18})#画热力图   annot=True 表示显示系数\n",
    "\n",
    "cbar = ax.collections[0].colorbar\n",
    "cbar.ax.tick_params(labelsize=22)\n",
    "\n",
    "plt.xticks(fontsize=18, rotation=325)\n",
    "plt.yticks(fontsize=20, rotation=360)\n",
    "#plt.xlabel(fontsize=20, fontdict={ \"family\": \"KaiTi\"})\n",
    "#plt.ylabel(fontsize=20, fontdict={ \"family\": \"KaiTi\"})\n"
   ]
  },
  {
   "cell_type": "code",
   "execution_count": null,
   "id": "d73bba27-d9dd-4a69-b90c-e18e89a8cd10",
   "metadata": {},
   "outputs": [],
   "source": [
    "#The second plotting method of correlation coefficient analysis\n",
    "import seaborn as sns\n",
    "import matplotlib.pyplot as plt\n",
    "import warnings\n",
    "warnings.filterwarnings('ignore')\n",
    "\n",
    "plt.rcParams['font.sans-serif'] = ['Times New Roman']\n",
    "plt.rcParams['axes.unicode_minus'] = False \n",
    "\n",
    "ax = sns.clustermap(corr, square=True, annot=True, cmap=sns.diverging_palette(255, 5, as_cmap=True),\n",
    "                    annot_kws={\"size\": 24}, figsize=(22, 20), dendrogram_ratio=(.1, .1),\n",
    "                    cbar_pos=(0, .75, .03, .15)) \n",
    "\n",
    "cax = plt.gcf().axes[-1]\n",
    "cax.tick_params(labelsize=22)\n",
    "\n",
    "ax.ax_heatmap.tick_params(axis='x', labelsize=26, rotation=325)\n",
    "ax.ax_heatmap.tick_params(axis='y', labelsize=26)\n",
    "\n",
    "plt.show()"
   ]
  },
  {
   "cell_type": "code",
   "execution_count": null,
   "id": "83b8fc89-7b38-404e-a104-64c9321012e1",
   "metadata": {},
   "outputs": [],
   "source": []
  },
  {
   "cell_type": "code",
   "execution_count": null,
   "id": "ddae367d-f200-4a69-a381-aabdcc1982b4",
   "metadata": {},
   "outputs": [],
   "source": [
    "#Import the adapted code base\n",
    "import pandas as pd\n",
    "import csv\n",
    "import numpy as np\n",
    "from sklearn.model_selection import train_test_split"
   ]
  },
  {
   "cell_type": "code",
   "execution_count": null,
   "id": "387724a5-d108-42ae-b0d9-0723ef87acff",
   "metadata": {},
   "outputs": [],
   "source": [
    "#Read in the test file\n",
    "zon = pd.read_csv(r'D:/LSM/1JieXi2/quan.csv')"
   ]
  },
  {
   "cell_type": "code",
   "execution_count": null,
   "id": "9e14b918-c1bb-4782-80c7-be1c2e9ec68b",
   "metadata": {},
   "outputs": [],
   "source": [
    "#Check the null value data of the test file\n",
    "is_minus_9999 = (zon == -9999)\n",
    "minus_9999_count = is_minus_9999.sum()\n",
    "print(minus_9999_count)\n",
    "\n",
    "for column in zon.columns:\n",
    "    if minus_9999_count[column] > 0:\n",
    "        print(f\"Column: {column} has {minus_9999_count[column]} occurrences of -9999\")\n",
    "        print(zon[is_minus_9999[column]])"
   ]
  },
  {
   "cell_type": "code",
   "execution_count": null,
   "id": "aeb0b397-6901-4dea-966e-55c966fd7997",
   "metadata": {},
   "outputs": [],
   "source": [
    "#Be clear about the null value data of the test file\n",
    "zon = zon.replace(-9999, pd.NA).dropna()"
   ]
  },
  {
   "cell_type": "code",
   "execution_count": null,
   "id": "d59d9315-9826-4b7d-8c59-995b3d80e8e4",
   "metadata": {},
   "outputs": [],
   "source": [
    "#Check the null value data of the test file\n",
    "is_minus_9999 = (zon == -9999)\n",
    "\n",
    "minus_9999_count = is_minus_9999.sum()\n",
    "\n",
    "print(minus_9999_count)\n",
    "\n",
    "for column in zon.columns:\n",
    "    if minus_9999_count[column] > 0:\n",
    "        print(f\"Column: {column} has {minus_9999_count[column]} occurrences of -9999\")\n",
    "        print(zon[is_minus_9999[column]])"
   ]
  },
  {
   "cell_type": "code",
   "execution_count": null,
   "id": "0d7364a1-270b-440c-9e99-8fd510d083e3",
   "metadata": {},
   "outputs": [],
   "source": [
    "data=zon"
   ]
  },
  {
   "cell_type": "code",
   "execution_count": null,
   "id": "5226b793-597c-4786-aa0b-e130229c3896",
   "metadata": {},
   "outputs": [],
   "source": [
    "#Rename each feature value\n",
    "column_mapping = {\n",
    "    'DEM': 'Elevation',\n",
    "    'Slope': 'Slope',\n",
    "    'Aspect': 'Aspect',\n",
    "    'JXtwi': 'TWI',\n",
    "    'RDLS': 'Topographic relief',\n",
    "    'ys': 'Strata',\n",
    "    'TPI': 'Slope position',\n",
    "    'curvature': 'Slope curvature',\n",
    "    'landcover': 'Land cover',\n",
    "    'NDVI2': 'NDVI',\n",
    "    'Driver': 'Distance to river',\n",
    "    'rainfallzh': 'Accumulated rainfall'\n",
    "}\n",
    "\n",
    "data.rename(columns=column_mapping, inplace=True)\n",
    "\n",
    "data"
   ]
  },
  {
   "cell_type": "code",
   "execution_count": null,
   "id": "8dfb8f06-bddd-4097-a5a2-5b7a9eb124da",
   "metadata": {},
   "outputs": [],
   "source": [
    "data.to_csv(r'D:/LSM/1JieXi2/1test/zon.csv')"
   ]
  },
  {
   "cell_type": "code",
   "execution_count": null,
   "id": "6ae6bf1c-0459-4550-9c77-8c182a1ef9a3",
   "metadata": {},
   "outputs": [],
   "source": [
    "#Divide the test set proportionally\n",
    "test_data1=data.iloc[0:9000,0:12]\n",
    "test_data1.to_csv(r'D:/LSM/1JieXi2/1test/test1.csv')\n",
    "test_data1"
   ]
  },
  {
   "cell_type": "code",
   "execution_count": null,
   "id": "d67447b1-d5c4-4f69-9e5d-13e5acf91ccd",
   "metadata": {},
   "outputs": [],
   "source": [
    "#Divide the test set proportionally\n",
    "test_data1=data.iloc[9000:18000,0:12]\n",
    "test_data1.to_csv(r'D:/LSM/1JieXi2/1test/test2.csv')\n",
    "test_data1"
   ]
  },
  {
   "cell_type": "code",
   "execution_count": null,
   "id": "8a66be1f-e911-4b59-8a15-e7b92fdec613",
   "metadata": {},
   "outputs": [],
   "source": [
    "#Divide the test set proportionally\n",
    "test_data1=data.iloc[18000:27000,0:12]\n",
    "test_data1.to_csv(r'D:/LSM/1JieXi2/1test/test3.csv')\n",
    "test_data1"
   ]
  },
  {
   "cell_type": "code",
   "execution_count": null,
   "id": "ad9ee9ec-2361-41b6-9c02-c100319a8a52",
   "metadata": {},
   "outputs": [],
   "source": [
    "#Divide the test set proportionally\n",
    "test_data1=data.iloc[27000:36000,0:12]\n",
    "test_data1.to_csv(r'D:/LSM/1JieXi2/1test/test4.csv')\n",
    "test_data1"
   ]
  },
  {
   "cell_type": "code",
   "execution_count": null,
   "id": "072bd5bd-1aaa-446c-80a7-ad2799e8ba84",
   "metadata": {},
   "outputs": [],
   "source": [
    "#Divide the test set proportionally\n",
    "test_data1=data.iloc[36000:45000,0:12]\n",
    "test_data1.to_csv(r'D:/LSM/1JieXi2/1test/test5.csv')\n",
    "test_data1"
   ]
  },
  {
   "cell_type": "code",
   "execution_count": null,
   "id": "13885e64-fb35-4e7e-97ee-40a64140f2b8",
   "metadata": {},
   "outputs": [],
   "source": [
    "#Divide the test set proportionally\n",
    "test_data1=data.iloc[45000:54000,0:12]\n",
    "test_data1.to_csv(r'D:/LSM/1JieXi2/1test/test6.csv')\n",
    "test_data1"
   ]
  },
  {
   "cell_type": "code",
   "execution_count": null,
   "id": "788d576b-8754-4926-8a2d-e1f6ae29d9b1",
   "metadata": {},
   "outputs": [],
   "source": [
    "#Divide the test set proportionally\n",
    "test_data1=data.iloc[54000:63000,0:12]\n",
    "test_data1.to_csv(r'D:/LSM/1JieXi2/1test/test7.csv')\n",
    "test_data1"
   ]
  },
  {
   "cell_type": "code",
   "execution_count": null,
   "id": "3a949bf2-f226-477c-aebc-daf1ef141e11",
   "metadata": {},
   "outputs": [],
   "source": [
    "#Divide the test set proportionally\n",
    "test_data1=data.iloc[63000:72000,0:12]\n",
    "test_data1.to_csv(r'D:/LSM/1JieXi2/1test/test8.csv')\n",
    "test_data1"
   ]
  },
  {
   "cell_type": "code",
   "execution_count": null,
   "id": "d0d2dac9-741d-4c0f-a723-880050cf8bc6",
   "metadata": {},
   "outputs": [],
   "source": [
    "#Divide the test set proportionally\n",
    "test_data1=data.iloc[72000:81000,0:12]\n",
    "test_data1.to_csv(r'D:/LSM/1JieXi2/1test/test9.csv')\n",
    "test_data1"
   ]
  },
  {
   "cell_type": "code",
   "execution_count": null,
   "id": "601a43ce-5f62-4f1b-a992-cabed3f704da",
   "metadata": {},
   "outputs": [],
   "source": [
    "#Divide the test set proportionally\n",
    "test_data1=data.iloc[81000:90000,0:12]\n",
    "test_data1.to_csv(r'D:/LSM/1JieXi2/1test/test10.csv')\n",
    "test_data1"
   ]
  },
  {
   "cell_type": "code",
   "execution_count": null,
   "id": "cc004f80-12a9-4158-a13f-7836be6bf0d6",
   "metadata": {},
   "outputs": [],
   "source": [
    "#Divide the test set proportionally\n",
    "test_data1=data.iloc[90000:99000,0:12]\n",
    "test_data1.to_csv(r'D:/LSM/1JieXi2/1test/test11.csv')\n",
    "test_data1"
   ]
  },
  {
   "cell_type": "code",
   "execution_count": null,
   "id": "378242d3-bbb3-4bcb-bf60-55f2a9e018b7",
   "metadata": {},
   "outputs": [],
   "source": [
    "#Divide the test set proportionally\n",
    "test_data1=data.iloc[99000:108000,0:12]\n",
    "test_data1.to_csv(r'D:/LSM/1JieXi2/1test/test12.csv')\n",
    "test_data1"
   ]
  },
  {
   "cell_type": "code",
   "execution_count": null,
   "id": "48c97dff-9334-463e-887b-662bc8efd208",
   "metadata": {},
   "outputs": [],
   "source": [
    "#Divide the test set proportionally\n",
    "test_data1=data.iloc[108000:117000,0:12]\n",
    "test_data1.to_csv(r'D:/LSM/1JieXi2/1test/test13.csv')\n",
    "test_data1"
   ]
  },
  {
   "cell_type": "code",
   "execution_count": null,
   "id": "965e4835-9f6c-40e6-83e5-89accfd3a512",
   "metadata": {},
   "outputs": [],
   "source": [
    "#Divide the test set proportionally\n",
    "test_data1=data.iloc[117000:126000,0:12]\n",
    "test_data1.to_csv(r'D:/LSM/1JieXi2/1test/test14.csv')\n",
    "test_data1"
   ]
  },
  {
   "cell_type": "code",
   "execution_count": null,
   "id": "619d0c4b-6920-4200-b200-9fb40c734fb4",
   "metadata": {},
   "outputs": [],
   "source": [
    "#Divide the test set proportionally\n",
    "test_data1=data.iloc[126000:135000,0:12]\n",
    "test_data1.to_csv(r'D:/LSM/1JieXi2/1test/test15.csv')\n",
    "test_data1"
   ]
  },
  {
   "cell_type": "code",
   "execution_count": null,
   "id": "4e5a2e79-59f8-4481-9b23-8591993b47b3",
   "metadata": {},
   "outputs": [],
   "source": [
    "#Divide the test set proportionally\n",
    "test_data1=data.iloc[135000:144000,0:12]\n",
    "test_data1.to_csv(r'D:/LSM/1JieXi2/1test/test16.csv')\n",
    "test_data1"
   ]
  },
  {
   "cell_type": "code",
   "execution_count": null,
   "id": "ec1cc000-9a5f-4c2a-98e3-fee3fdf09a17",
   "metadata": {},
   "outputs": [],
   "source": [
    "#Divide the test set proportionally\n",
    "test_data1=data.iloc[144000:153000,0:12]\n",
    "test_data1.to_csv(r'D:/LSM/1JieXi2/1test/test17.csv')\n",
    "test_data1"
   ]
  },
  {
   "cell_type": "code",
   "execution_count": null,
   "id": "a9687673-3ef2-4d41-bd0b-5eaa942e9925",
   "metadata": {},
   "outputs": [],
   "source": [
    "#Divide the test set proportionally\n",
    "test_data1=data.iloc[153000:162000,0:12]\n",
    "test_data1.to_csv(r'D:/LSM/1JieXi2/1test/test18.csv')\n",
    "test_data1"
   ]
  },
  {
   "cell_type": "code",
   "execution_count": null,
   "id": "abb7d5d5-faff-43f4-9242-b59e1f5ec155",
   "metadata": {},
   "outputs": [],
   "source": [
    "#Divide the test set proportionally\n",
    "test_data1=data.iloc[162000:166647,0:12]\n",
    "test_data1.to_csv(r'D:/LSM/1JieXi2/1test/test19.csv')\n",
    "test_data1"
   ]
  },
  {
   "cell_type": "code",
   "execution_count": null,
   "id": "84e337b1-9179-4662-acca-97e96d5cfcc3",
   "metadata": {},
   "outputs": [],
   "source": []
  },
  {
   "cell_type": "code",
   "execution_count": null,
   "id": "0fece23d-5049-489f-88d3-bc56686cf777",
   "metadata": {},
   "outputs": [],
   "source": []
  },
  {
   "cell_type": "code",
   "execution_count": null,
   "id": "d973a243-0338-4c1b-b50a-7a767eb8edb9",
   "metadata": {},
   "outputs": [],
   "source": []
  }
 ],
 "metadata": {
  "kernelspec": {
   "display_name": "Python 3 (ipykernel)",
   "language": "python",
   "name": "python3"
  },
  "language_info": {
   "codemirror_mode": {
    "name": "ipython",
    "version": 3
   },
   "file_extension": ".py",
   "mimetype": "text/x-python",
   "name": "python",
   "nbconvert_exporter": "python",
   "pygments_lexer": "ipython3",
   "version": "3.11.7"
  }
 },
 "nbformat": 4,
 "nbformat_minor": 5
}
