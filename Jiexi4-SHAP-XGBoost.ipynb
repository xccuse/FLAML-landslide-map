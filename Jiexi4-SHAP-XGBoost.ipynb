{
 "cells": [
  {
   "cell_type": "code",
   "execution_count": null,
   "id": "d7112038-0210-4b65-8b6a-3e0983464dbd",
   "metadata": {},
   "outputs": [],
   "source": [
    "import pandas as pd\n",
    "import numpy as np\n",
    "import matplotlib.pyplot as plt\n",
    "from sklearn.model_selection import train_test_split\n",
    "import xgboost as xgb\n",
    "import matplotlib.pyplot as plt\n",
    "\n",
    "df = pd.read_csv('D:/LSM/1JieXi2/fz.csv')\n",
    "df = df.drop(df.columns[0], axis=1)"
   ]
  },
  {
   "cell_type": "code",
   "execution_count": null,
   "id": "c0dd9181-9270-4518-9258-d27042481263",
   "metadata": {},
   "outputs": [],
   "source": [
    "#Rename each feature value\n",
    "column_mapping = {\n",
    "    'DEM': 'Elevation',\n",
    "    'Slope': 'Slope',\n",
    "    'Aspect': 'Aspect',\n",
    "    'JXtwi': 'TWI',\n",
    "    'RDLS': 'Topographic relief',\n",
    "    'ys': 'Strata',\n",
    "    'TPI': 'Slope position',\n",
    "    'curvature': 'Slope curvature',\n",
    "    'landcover': 'Land cover',\n",
    "    'NDVI2': 'NDVI',\n",
    "    'Driver': 'Distance to river',\n",
    "    'rainfallzh': 'Accumulated rainfall'\n",
    "}\n",
    "\n",
    "df.rename(columns=column_mapping, inplace=True)"
   ]
  },
  {
   "cell_type": "code",
   "execution_count": null,
   "id": "497afc19-b487-40d6-ace4-fbf7c1d9b25a",
   "metadata": {},
   "outputs": [],
   "source": [
    "#Training tests and shap value calculation\n",
    "features = ['Elevation','Slope','Aspect','TWI','Topographic relief','Strata','Slope position','Slope curvature','Land cover','NDVI','Distance to river','Accumulated rainfall']\n",
    "Y = df['Class']\n",
    "X = df[features]\n",
    "X_train, X_test, Y_train, Y_test = train_test_split(X, Y, test_size=0.3, random_state=5)\n",
    "xgb_model = xgb.XGBClassifier(n_estimators=15,max_leaves=5,min_child_weight=1.0932811652353447,learning_rate=0.025540542163592257,subsample=1.0,colsample_bylevel=0.6127977144162311,colsample_bytree=0.8499027725496043,reg_alpha=0.0015851927568202393,reg_lambda=16.013456611003765)\n",
    "\n",
    "xgb_model.fit(X_train, Y_train)\n",
    "\n",
    "import shap\n",
    "explainer = shap.Explainer(xgb_model)\n",
    "shap_values = explainer(X_test)"
   ]
  },
  {
   "cell_type": "code",
   "execution_count": null,
   "id": "49a34d43-aead-4568-b91e-9ed342d4cc15",
   "metadata": {},
   "outputs": [],
   "source": [
    "#Draw the relative feature ranking\n",
    "plt.rcParams['font.sans-serif'] = ['Times New Roman']\n",
    "fig, ax = plt.subplots(figsize=(24, 10),dpi=300)\n",
    "\n",
    "shap.plots.bar(shap_values, max_display=20)# default is max_display=12"
   ]
  },
  {
   "cell_type": "code",
   "execution_count": null,
   "id": "a8409695-9169-4457-9912-6f8694fd3864",
   "metadata": {},
   "outputs": [],
   "source": [
    "#Draw the Heatmap plot(Thermal Matrix)\n",
    "plt.rcParams['font.sans-serif'] = ['Times New Roman']\n",
    "fig, ax = plt.subplots(figsize=(24, 10),dpi=300)\n",
    "\n",
    "shap.plots.heatmap(shap_values, instance_order=shap_values.sum(1), max_display=20, plot_width=10, ax=ax, show=False)\n",
    "#shap.plots.heatmap(shap_values[1:100],  max_display=15, plot_width=14, ax=ax, show=False)\n",
    "#ax.set_title('Learning Curve')\n",
    "\n",
    "yticklabels= ax.get_yticklabels()\n",
    "if yticklabels:\n",
    "    ax.set_yticklabels(['Baseline'] + yticklabels[1:], fontsize=16)\n",
    "\n",
    "plt.title('Heatmap plot(Thermal Matrix)',fontsize=20)\n",
    "\n",
    "ax.set_xlabel('Instances', fontsize=20)\n",
    "\n",
    "xticks = ax.get_xticklabels()\n",
    "plt.xticks(fontsize=18) \n",
    "\n",
    "yticks = ax.get_yticklabels()\n",
    "plt.yticks(fontsize=18) \n",
    "\n",
    "bar_ax = ax.get_figure().axes[1]\n",
    "bar_ax.set_ylabel('SHAP value(impact on model output)', fontsize=18)\n",
    "bar_ax.tick_params(axis='both',labelsize=18)"
   ]
  },
  {
   "cell_type": "code",
   "execution_count": null,
   "id": "ff09429d-f417-45dd-9fb4-cb16def0cffa",
   "metadata": {},
   "outputs": [],
   "source": [
    "#Draw the Summary Plot(Overall Explanation Plot)\n",
    "plt.rcParams['font.sans-serif'] = ['Times New Roman']\n",
    "fig, ax = plt.subplots(figsize=(16, 10),dpi=300)\n",
    "plt.title('Summary Plot(Overall Explanation Plot)',fontsize=12)\n",
    "\n",
    "\n",
    "xticks = ax.get_xticklabels()\n",
    "plt.xticks(fontsize=14) \n",
    "\n",
    "yticks = ax.get_yticklabels()\n",
    "plt.yticks(fontsize=14) \n",
    "\n",
    "# Get SHAP values\n",
    "shap_values = explainer(X_test)\n",
    "# Display beeswarm plot\n",
    "shap.plots.beeswarm(shap_values, max_display=20)"
   ]
  },
  {
   "cell_type": "code",
   "execution_count": null,
   "id": "2b45fe28-f334-4b0c-9e82-2417e1f19b46",
   "metadata": {},
   "outputs": [],
   "source": [
    "#Draw the Decision plot\n",
    "plt.rcParams['font.sans-serif'] = ['Times New Roman']\n",
    "fig, ax = plt.subplots(figsize=(16, 10),dpi=300)\n",
    "plt.title('Decision plot',fontsize=12)\n",
    "\n",
    "expected_value = explainer.expected_value\n",
    "#print(\"The expected value is \", expected_value)\n",
    "shap_values = explainer.shap_values(X_test)\n",
    "shap.decision_plot(expected_value, shap_values, X_test)"
   ]
  },
  {
   "cell_type": "code",
   "execution_count": null,
   "id": "45411666-a52c-4b86-8449-40b085f476a7",
   "metadata": {},
   "outputs": [],
   "source": []
  },
  {
   "cell_type": "code",
   "execution_count": null,
   "id": "bda656ef-5ce4-41ea-8e3d-03727c5f41a6",
   "metadata": {},
   "outputs": [],
   "source": [
    "import pandas as pd\n",
    "import numpy as np\n",
    "import matplotlib.pyplot as plt\n",
    "from sklearn.model_selection import train_test_split\n",
    "import xgboost as xgb\n",
    "import matplotlib.pyplot as plt\n",
    "\n",
    "df = pd.read_csv('D:/LSM/1JieXi2/fz.csv')\n",
    "df = df.drop(df.columns[0], axis=1)"
   ]
  },
  {
   "cell_type": "code",
   "execution_count": null,
   "id": "4e06ffe5-b062-477a-9256-e91a3452c332",
   "metadata": {},
   "outputs": [],
   "source": [
    "#Rename each feature value\n",
    "column_mapping = {\n",
    "    'DEM': 'Elevation',\n",
    "    'Slope': 'Slope',\n",
    "    'Aspect': 'Aspect',\n",
    "    'JXtwi': 'TWI',\n",
    "    'RDLS': 'Topographic relief',\n",
    "    'ys': 'Strata',\n",
    "    'TPI': 'Slope position',\n",
    "    'curvature': 'Slope curvature',\n",
    "    'landcover': 'Land cover',\n",
    "    'NDVI2': 'NDVI',\n",
    "    'Driver': 'Distance to river',\n",
    "    'rainfallzh': 'Accumulated rainfall'\n",
    "}\n",
    "\n",
    "df.rename(columns=column_mapping, inplace=True)"
   ]
  },
  {
   "cell_type": "code",
   "execution_count": null,
   "id": "13bdfa84-e750-4c5b-a0a6-6a266d786e76",
   "metadata": {},
   "outputs": [],
   "source": [
    "#Training tests and shap value calculation\n",
    "features = ['Elevation','Slope','Aspect','TWI','Topographic relief','Strata','Slope position','Slope curvature','Land cover','NDVI','Distance to river','Accumulated rainfall']\n",
    "Y = df['Class']\n",
    "X = df[features]\n",
    "X_train, X_test, Y_train, Y_test = train_test_split(X, Y, test_size=0.3, random_state=5)\n",
    "xgb_model = xgb.XGBClassifier(n_estimators=149,max_leaves=266,min_child_weight=0.004343949146526816,learning_rate=0.0683264364897045,subsample=0.7235810048890071,colsample_bylevel=0.950038922565729,colsample_bytree=0.8337137146730244,reg_alpha=0.0649505922345645,reg_lambda=0.021702898987727086)\n",
    "\n",
    "xgb_model.fit(X_train, Y_train)\n",
    "\n",
    "import shap\n",
    "explainer = shap.Explainer(xgb_model)\n",
    "shap_values = explainer(X_test)"
   ]
  },
  {
   "cell_type": "code",
   "execution_count": null,
   "id": "cd0e11bb-1fd0-43db-aee6-60d1eac67e65",
   "metadata": {},
   "outputs": [],
   "source": [
    "#Draw the relative feature ranking\n",
    "plt.rcParams['font.sans-serif'] = ['Times New Roman']\n",
    "fig, ax = plt.subplots(figsize=(24, 10),dpi=300)\n",
    "\n",
    "shap.plots.bar(shap_values, max_display=20)# default is max_display=12"
   ]
  },
  {
   "cell_type": "code",
   "execution_count": null,
   "id": "b8a158f1-9e6a-47ea-8127-744c1156bed6",
   "metadata": {},
   "outputs": [],
   "source": [
    "#Draw the Heatmap plot(Thermal Matrix)\n",
    "plt.rcParams['font.sans-serif'] = ['Times New Roman']\n",
    "fig, ax = plt.subplots(figsize=(24, 10),dpi=300)\n",
    "\n",
    "shap.plots.heatmap(shap_values, instance_order=shap_values.sum(1), max_display=20, plot_width=10, ax=ax, show=False)\n",
    "#shap.plots.heatmap(shap_values[1:100],  max_display=15, plot_width=14, ax=ax, show=False)\n",
    "#ax.set_title('Learning Curve')\n",
    "\n",
    "yticklabels= ax.get_yticklabels()\n",
    "if yticklabels:\n",
    "    ax.set_yticklabels(['Baseline'] + yticklabels[1:], fontsize=16)\n",
    "\n",
    "plt.title('Heatmap plot(Thermal Matrix)',fontsize=20)\n",
    "\n",
    "ax.set_xlabel('Instances', fontsize=20)\n",
    "\n",
    "xticks = ax.get_xticklabels()\n",
    "plt.xticks(fontsize=18) \n",
    "\n",
    "yticks = ax.get_yticklabels()\n",
    "plt.yticks(fontsize=18) \n",
    "\n",
    "bar_ax = ax.get_figure().axes[1]\n",
    "bar_ax.set_ylabel('SHAP value(impact on model output)', fontsize=18)\n",
    "bar_ax.tick_params(axis='both',labelsize=18)\n"
   ]
  },
  {
   "cell_type": "code",
   "execution_count": null,
   "id": "be286192-41b7-481e-89d8-96540dc6e7c3",
   "metadata": {},
   "outputs": [],
   "source": [
    "#Draw the Summary Plot(Overall Explanation Plot)\n",
    "plt.rcParams['font.sans-serif'] = ['Times New Roman']\n",
    "fig, ax = plt.subplots(figsize=(16, 10),dpi=300)\n",
    "plt.title('Summary Plot(Overall Explanation Plot)',fontsize=12)\n",
    "\n",
    "xticks = ax.get_xticklabels()\n",
    "plt.xticks(fontsize=14) \n",
    "\n",
    "yticks = ax.get_yticklabels()\n",
    "plt.yticks(fontsize=14) \n",
    "\n",
    "# Get SHAP values\n",
    "shap_values = explainer(X_test)\n",
    "# Display beeswarm plot\n",
    "shap.plots.beeswarm(shap_values, max_display=20)"
   ]
  },
  {
   "cell_type": "code",
   "execution_count": null,
   "id": "6825b632-40d1-4a0c-839c-34ea3824d0dc",
   "metadata": {},
   "outputs": [],
   "source": [
    "#Draw the Decision plot\n",
    "plt.rcParams['font.sans-serif'] = ['Times New Roman']\n",
    "fig, ax = plt.subplots(figsize=(16, 10),dpi=300)\n",
    "plt.title('Decision plot',fontsize=12)\n",
    "\n",
    "expected_value = explainer.expected_value\n",
    "#print(\"The expected value is \", expected_value)\n",
    "shap_values = explainer.shap_values(X_test)\n",
    "shap.decision_plot(expected_value, shap_values, X_test)"
   ]
  },
  {
   "cell_type": "code",
   "execution_count": null,
   "id": "003a4484-880f-40ab-866e-441ce522020a",
   "metadata": {},
   "outputs": [],
   "source": []
  },
  {
   "cell_type": "code",
   "execution_count": null,
   "id": "b2a02d0b-6f74-49f2-abbb-e215f9d8e4b7",
   "metadata": {},
   "outputs": [],
   "source": [
    "#Import the adapted code base\n",
    "import pandas as pd\n",
    "import numpy as np\n",
    "import matplotlib.pyplot as plt\n",
    "from sklearn.model_selection import train_test_split\n",
    "import xgboost as xgb\n",
    "import matplotlib.pyplot as plt"
   ]
  },
  {
   "cell_type": "code",
   "execution_count": null,
   "id": "03aa32c9-a23e-48c1-b5c2-ff7d89d8858c",
   "metadata": {},
   "outputs": [],
   "source": [
    "#Import the adapted code base\n",
    "import pandas as pd\n",
    "import csv\n",
    "import numpy as np\n",
    "from sklearn.model_selection import train_test_split"
   ]
  },
  {
   "cell_type": "code",
   "execution_count": null,
   "id": "77f25d4f-2ef3-4aac-9739-6e80821f7c21",
   "metadata": {},
   "outputs": [],
   "source": [
    "#Read in positive and negative sample data\n",
    "zon = pd.read_csv(r'D:/LSM/1JieXi2/fz.csv')\n",
    "zon = zon.drop(zon.columns[0], axis=1)"
   ]
  },
  {
   "cell_type": "code",
   "execution_count": null,
   "id": "355cf1ca-6a71-44a7-89d9-dd4f2c3f41ba",
   "metadata": {},
   "outputs": [],
   "source": [
    "#Rename each feature value\n",
    "column_mapping = {\n",
    "    'DEM': 'Elevation',\n",
    "    'Slope': 'Slope',\n",
    "    'Aspect': 'Aspect',\n",
    "    'JXtwi': 'TWI',\n",
    "    'RDLS': 'Topographic relief',\n",
    "    'ys': 'Strata',\n",
    "    'TPI': 'Slope position',\n",
    "    'curvature': 'Slope curvature',\n",
    "    'landcover': 'Land cover',\n",
    "    'NDVI2': 'NDVI',\n",
    "    'Driver': 'Distance to river',\n",
    "    'rainfallzh': 'Accumulated rainfall'\n",
    "}\n",
    "\n",
    "zon.rename(columns=column_mapping, inplace=True)"
   ]
  },
  {
   "cell_type": "code",
   "execution_count": null,
   "id": "0470c878-192d-472d-989c-1b0c72f2b444",
   "metadata": {},
   "outputs": [],
   "source": [
    "#Divide the sample set proportionally\n",
    "train,test=train_test_split(zon,test_size=0.3,random_state=5)"
   ]
  },
  {
   "cell_type": "code",
   "execution_count": null,
   "id": "e218f0b2-dd80-46c3-ac7c-e292b99d4405",
   "metadata": {},
   "outputs": [],
   "source": [
    "#Extract the labeled and feature data\n",
    "y_train = train['Class'];\n",
    "X_train = train.drop(labels=['Class'], axis=1, level=None)\n",
    "\n",
    "y_test = test['Class'];\n",
    "X_test = test.drop(labels=['Class'], axis=1, level=None)"
   ]
  },
  {
   "cell_type": "code",
   "execution_count": null,
   "id": "d097a99e-ecb9-41d4-a298-b45e19f0961d",
   "metadata": {},
   "outputs": [],
   "source": [
    "#Import the adapted code base\n",
    "# -*- coding: utf-8 -*-\n",
    "\n",
    "import pandas as pd\n",
    "import numpy as np\n",
    "import csv\n",
    "import codecs\n",
    "from sklearn import preprocessing\n",
    "from sklearn.model_selection import train_test_split\n",
    "from sklearn.metrics import confusion_matrix\n",
    "from sklearn.ensemble import RandomForestClassifier\n",
    "import matplotlib.pyplot as plt\n",
    "from sklearn.metrics import roc_curve\n",
    "import warnings\n",
    "warnings.filterwarnings(\"ignore\")"
   ]
  },
  {
   "cell_type": "code",
   "execution_count": null,
   "id": "dcd3d40a-7900-4547-92ce-2c9832c1ff3b",
   "metadata": {},
   "outputs": [],
   "source": [
    "#Train the model\n",
    "#classifier=xgb.XGBClassifier(n_estimators=149,max_leaves=266,min_child_weight=0.004343949146526816,learning_rate=0.0683264364897045,subsample=0.7235810048890071,colsample_bylevel=0.950038922565729,colsample_bytree=0.8337137146730244,reg_alpha=0.0649505922345645,reg_lambda=0.021702898987727086)\n",
    "classifier=xgb.XGBClassifier(n_estimators=15,max_leaves=5,min_child_weight=1.0932811652353447,learning_rate=0.025540542163592257,subsample=1.0,colsample_bylevel=0.6127977144162311,colsample_bytree=0.8499027725496043,reg_alpha=0.0015851927568202393,reg_lambda=16.013456611003765)\n",
    "\n",
    "predictor = classifier.fit(X_train, y_train)"
   ]
  },
  {
   "cell_type": "code",
   "execution_count": null,
   "id": "3cb6dfb2-d8ea-4bbb-8008-261a9ff2fa31",
   "metadata": {},
   "outputs": [],
   "source": [
    "#Output the values of the three evaluation indicators\n",
    "\n",
    "y_predTr=classifier.predict(X_train)\n",
    "#print(y_predTr)\n",
    "y_predict_train = classifier.predict_proba(X_train)\n",
    "# print(y_predict)\n",
    "\n",
    "y_pred=classifier.predict(X_test)\n",
    "#print(y_pred)\n",
    "\n",
    "y_predict_proba = classifier.predict_proba(X_test)"
   ]
  },
  {
   "cell_type": "code",
   "execution_count": null,
   "id": "1c840866-2f8b-4ef4-9bd4-56370a363bad",
   "metadata": {},
   "outputs": [],
   "source": [
    "#Draw the optimization curve\n",
    "#Draw the ROC curve of a single model\n",
    "def plot_roc_cur(fper, tper):\n",
    "    plt.plot(fper, tper, color='orange', label='ROC')\n",
    "    plt.plot([0, 1], [0, 1], color='darkblue', linestyle='--')\n",
    "    plt.xlabel('False Positive Rate')\n",
    "    plt.ylabel('True Positive Rate')\n",
    "    plt.title('Receiver Operating Characteristic (ROC) Curve')\n",
    "    plt.legend()\n",
    "    plt.show()\n",
    "\n",
    "probs = classifier.predict_proba(X_test)\n",
    "probs = probs[:, 1]\n",
    "fper, tper, thresholds = roc_curve(y_test, probs)\n",
    "plot_roc_cur(fper, tper)\n",
    "\n",
    "from sklearn import  metrics\n",
    "auc= metrics.roc_auc_score(y_test, probs)\n",
    "print(\"area under cureve: {:.4f}\". format(metrics.roc_auc_score(y_test, probs)))\n",
    "\n",
    "print(\"Accuracy on Traning data: {:.4f}\".format(classifier.score(X_train,y_train)))\n",
    "print(\"Accuracy on test data: {:.4f}\".format(classifier.score(X_test, y_test)))"
   ]
  },
  {
   "cell_type": "code",
   "execution_count": null,
   "id": "99cda252-877a-4e64-80ad-73a765231bf3",
   "metadata": {},
   "outputs": [],
   "source": []
  },
  {
   "cell_type": "code",
   "execution_count": null,
   "id": "3e048cf6-fad8-4033-85cb-90f929ee5a4f",
   "metadata": {},
   "outputs": [],
   "source": [
    "#Import the adapted code base\n",
    "import pandas as pd\n",
    "import csv\n",
    "import numpy as np\n",
    "from sklearn.model_selection import train_test_split"
   ]
  },
  {
   "cell_type": "code",
   "execution_count": null,
   "id": "c611958d-19a4-4301-a864-4a1da7775b31",
   "metadata": {},
   "outputs": [],
   "source": [
    "#Read in positive and negative sample data\n",
    "zon = pd.read_csv(r'D:/LSM/1JieXi2/fz.csv')\n",
    "zon = zon.drop(zon.columns[0], axis=1)"
   ]
  },
  {
   "cell_type": "code",
   "execution_count": null,
   "id": "eb85f5f3-ac67-4570-b9a3-e4d0423c58b8",
   "metadata": {},
   "outputs": [],
   "source": [
    "#Rename each feature value\n",
    "column_mapping = {\n",
    "    'DEM': 'Elevation',\n",
    "    'Slope': 'Slope',\n",
    "    'Aspect': 'Aspect',\n",
    "    'JXtwi': 'TWI',\n",
    "    'RDLS': 'Topographic relief',\n",
    "    'ys': 'Strata',\n",
    "    'TPI': 'Slope position',\n",
    "    'curvature': 'Slope curvature',\n",
    "    'landcover': 'Land cover',\n",
    "    'NDVI2': 'NDVI',\n",
    "    'Driver': 'Distance to river',\n",
    "    'rainfallzh': 'Accumulated rainfall'\n",
    "}\n",
    "\n",
    "zon.rename(columns=column_mapping, inplace=True)"
   ]
  },
  {
   "cell_type": "code",
   "execution_count": null,
   "id": "99cf228d-680c-4aae-a500-b56d7b4fe57a",
   "metadata": {},
   "outputs": [],
   "source": [
    "#Divide the sample set proportionally\n",
    "train,test=train_test_split(zon,test_size=0.3,random_state=5)"
   ]
  },
  {
   "cell_type": "code",
   "execution_count": null,
   "id": "910fa4ad-7a59-4c90-ac26-acfb5e4a205d",
   "metadata": {},
   "outputs": [],
   "source": [
    "#Extract the labeled and feature data\n",
    "y_train = train['Class'];\n",
    "X_train = train.drop(labels=['Class'], axis=1, level=None)\n",
    "\n",
    "y_test = test['Class'];\n",
    "X_test = test.drop(labels=['Class'], axis=1, level=None)"
   ]
  },
  {
   "cell_type": "code",
   "execution_count": null,
   "id": "962a433d-c304-489b-b30d-7df513763cb0",
   "metadata": {},
   "outputs": [],
   "source": [
    "#Import the adapted code base\n",
    "# -*- coding: utf-8 -*-\n",
    "\n",
    "import pandas as pd\n",
    "import numpy as np\n",
    "import csv\n",
    "import codecs\n",
    "from sklearn import preprocessing\n",
    "from sklearn.model_selection import train_test_split\n",
    "from sklearn.metrics import confusion_matrix\n",
    "from sklearn.ensemble import RandomForestClassifier\n",
    "import matplotlib.pyplot as plt\n",
    "from sklearn.metrics import roc_curve\n",
    "import warnings\n",
    "warnings.filterwarnings(\"ignore\")"
   ]
  },
  {
   "cell_type": "code",
   "execution_count": null,
   "id": "99ad9c75-18ab-48fd-b97e-3936ef78a935",
   "metadata": {},
   "outputs": [],
   "source": [
    "#Train the model\n",
    "classifier=xgb.XGBClassifier(n_estimators=149,max_leaves=266,min_child_weight=0.004343949146526816,learning_rate=0.0683264364897045,subsample=0.7235810048890071,colsample_bylevel=0.950038922565729,colsample_bytree=0.8337137146730244,reg_alpha=0.0649505922345645,reg_lambda=0.021702898987727086)\n",
    "\n",
    "predictor = classifier.fit(X_train, y_train)"
   ]
  },
  {
   "cell_type": "code",
   "execution_count": null,
   "id": "5f0c9e44-9e9b-4769-9dda-a203c191b5d9",
   "metadata": {},
   "outputs": [],
   "source": [
    "#Output the values of the three evaluation indicators\n",
    "y_predTr=classifier.predict(X_train)\n",
    "#print(y_predTr)\n",
    "y_predict_train = classifier.predict_proba(X_train)\n",
    "# print(y_predict)\n",
    "\n",
    "y_pred=classifier.predict(X_test)\n",
    "#print(y_pred)\n",
    "\n",
    "y_predict_proba = classifier.predict_proba(X_test)"
   ]
  },
  {
   "cell_type": "code",
   "execution_count": null,
   "id": "f41ddbd3-07fe-4289-9072-e6cbe4c9c310",
   "metadata": {},
   "outputs": [],
   "source": [
    "#Draw the optimization curve\n",
    "#Draw the ROC curve of a single model\n",
    "def plot_roc_cur(fper, tper):\n",
    "    plt.plot(fper, tper, color='orange', label='ROC')\n",
    "    plt.plot([0, 1], [0, 1], color='darkblue', linestyle='--')\n",
    "    plt.xlabel('False Positive Rate')\n",
    "    plt.ylabel('True Positive Rate')\n",
    "    plt.title('Receiver Operating Characteristic (ROC) Curve')\n",
    "    plt.legend()\n",
    "    plt.show()\n",
    "\n",
    "probs = classifier.predict_proba(X_test)\n",
    "probs = probs[:, 1]\n",
    "fper, tper, thresholds = roc_curve(y_test, probs)\n",
    "plot_roc_cur(fper, tper)\n",
    "\n",
    "from sklearn import  metrics\n",
    "auc= metrics.roc_auc_score(y_test, probs)\n",
    "print(\"area under cureve: {:.4f}\". format(metrics.roc_auc_score(y_test, probs)))\n",
    "\n",
    "print(\"Accuracy on Traning data: {:.4f}\".format(classifier.score(X_train,y_train)))\n",
    "print(\"Accuracy on test data: {:.4f}\".format(classifier.score(X_test, y_test)))"
   ]
  },
  {
   "cell_type": "code",
   "execution_count": null,
   "id": "4eb47e3e-51ca-4331-8ae6-cd7a035a4649",
   "metadata": {},
   "outputs": [],
   "source": []
  },
  {
   "cell_type": "code",
   "execution_count": null,
   "id": "c70fde79-bc28-483f-b55b-012ec7383810",
   "metadata": {},
   "outputs": [],
   "source": []
  },
  {
   "cell_type": "code",
   "execution_count": null,
   "id": "15970308-3ef3-4672-a979-e787287fa189",
   "metadata": {},
   "outputs": [],
   "source": []
  }
 ],
 "metadata": {
  "kernelspec": {
   "display_name": "Python 3 (ipykernel)",
   "language": "python",
   "name": "python3"
  },
  "language_info": {
   "codemirror_mode": {
    "name": "ipython",
    "version": 3
   },
   "file_extension": ".py",
   "mimetype": "text/x-python",
   "name": "python",
   "nbconvert_exporter": "python",
   "pygments_lexer": "ipython3",
   "version": "3.11.7"
  }
 },
 "nbformat": 4,
 "nbformat_minor": 5
}
